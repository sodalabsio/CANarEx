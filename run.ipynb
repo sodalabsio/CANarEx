{
 "cells": [
  {
   "cell_type": "code",
   "execution_count": 2,
   "id": "d8af5241-99f4-4d94-8315-86ebee44a316",
   "metadata": {
    "tags": []
   },
   "outputs": [],
   "source": [
    "import pandas as pd"
   ]
  },
  {
   "cell_type": "markdown",
   "id": "7f0374c8-5d8c-4592-a84b-613e115eaf8e",
   "metadata": {},
   "source": [
    "## Generate sentences from documents"
   ]
  },
  {
   "cell_type": "code",
   "execution_count": 2,
   "id": "019dc256-0139-4929-8f25-24871cf33440",
   "metadata": {},
   "outputs": [],
   "source": [
    "from narratives import create_folder\n",
    "from narratives.sentence_generator import SentenceGenerator\n"
   ]
  },
  {
   "cell_type": "code",
   "execution_count": 3,
   "id": "81ed9dda-2c7e-44f0-845f-1f44f2e96380",
   "metadata": {},
   "outputs": [],
   "source": [
    "input_data = 'data/hansard_sample/first_nations_sample.jsonl'\n",
    "output = 'data/hansard_sample'\n",
    "\n",
    "# read i/p data\n",
    "corpus_df = pd.read_json(input_data, lines=True)\n",
    "corpus_df['date'] = corpus_df['date'].astype(str)"
   ]
  },
  {
   "cell_type": "code",
   "execution_count": 5,
   "id": "3e654e1b-0647-4055-adfb-ad97671936ed",
   "metadata": {},
   "outputs": [
    {
     "data": {
      "text/html": [
       "<div>\n",
       "<style scoped>\n",
       "    .dataframe tbody tr th:only-of-type {\n",
       "        vertical-align: middle;\n",
       "    }\n",
       "\n",
       "    .dataframe tbody tr th {\n",
       "        vertical-align: top;\n",
       "    }\n",
       "\n",
       "    .dataframe thead th {\n",
       "        text-align: right;\n",
       "    }\n",
       "</style>\n",
       "<table border=\"1\" class=\"dataframe\">\n",
       "  <thead>\n",
       "    <tr style=\"text-align: right;\">\n",
       "      <th></th>\n",
       "      <th>major_topic</th>\n",
       "      <th>minor_topic</th>\n",
       "      <th>speaker</th>\n",
       "      <th>content</th>\n",
       "      <th>groups</th>\n",
       "      <th>issues</th>\n",
       "      <th>date</th>\n",
       "      <th>id</th>\n",
       "      <th>year</th>\n",
       "      <th>month</th>\n",
       "    </tr>\n",
       "  </thead>\n",
       "  <tbody>\n",
       "    <tr>\n",
       "      <th>0</th>\n",
       "      <td>\\nQUESTIONS WITHOUT NOTICE</td>\n",
       "      <td>\\nPensions and Benefits</td>\n",
       "      <td>Belinda Jane Neal</td>\n",
       "      <td>My question is to the Minister for Families, H...</td>\n",
       "      <td>[First Nations, Older people, Working class]</td>\n",
       "      <td>[Shelter, Government assistance]</td>\n",
       "      <td>2008-11-11</td>\n",
       "      <td>31855975-2ba6-40ea-ae0e-d5542545f6f9</td>\n",
       "      <td>2008</td>\n",
       "      <td>11</td>\n",
       "    </tr>\n",
       "    <tr>\n",
       "      <th>1</th>\n",
       "      <td>\\nINDIGENOUS EDUCATION (TARGETED ASSISTANCE) A...</td>\n",
       "      <td>\\nSecond Reading</td>\n",
       "      <td>Gary Douglas Hardgrave</td>\n",
       "      <td>I move:\\n\\nThat this bill be now read a second...</td>\n",
       "      <td>[First Nations, Young people, People with drug...</td>\n",
       "      <td>[Violence, Voice, Crime/criminal justice, Addi...</td>\n",
       "      <td>2006-06-22</td>\n",
       "      <td>92cb7070-8ea3-4d91-aeef-e0a72d2541c7</td>\n",
       "      <td>2006</td>\n",
       "      <td>6</td>\n",
       "    </tr>\n",
       "  </tbody>\n",
       "</table>\n",
       "</div>"
      ],
      "text/plain": [
       "                                         major_topic  \\\n",
       "0                        \\nQUESTIONS WITHOUT NOTICE    \n",
       "1  \\nINDIGENOUS EDUCATION (TARGETED ASSISTANCE) A...   \n",
       "\n",
       "                minor_topic                 speaker  \\\n",
       "0  \\nPensions and Benefits        Belinda Jane Neal   \n",
       "1         \\nSecond Reading   Gary Douglas Hardgrave   \n",
       "\n",
       "                                             content  \\\n",
       "0  My question is to the Minister for Families, H...   \n",
       "1  I move:\\n\\nThat this bill be now read a second...   \n",
       "\n",
       "                                              groups  \\\n",
       "0       [First Nations, Older people, Working class]   \n",
       "1  [First Nations, Young people, People with drug...   \n",
       "\n",
       "                                              issues        date  \\\n",
       "0                   [Shelter, Government assistance]  2008-11-11   \n",
       "1  [Violence, Voice, Crime/criminal justice, Addi...  2006-06-22   \n",
       "\n",
       "                                     id  year  month  \n",
       "0  31855975-2ba6-40ea-ae0e-d5542545f6f9  2008     11  \n",
       "1  92cb7070-8ea3-4d91-aeef-e0a72d2541c7  2006      6  "
      ]
     },
     "execution_count": 5,
     "metadata": {},
     "output_type": "execute_result"
    }
   ],
   "source": [
    "corpus_df.head(2)"
   ]
  },
  {
   "cell_type": "code",
   "execution_count": 6,
   "id": "fb097225-fba3-4922-9827-b3daebd8cf4e",
   "metadata": {},
   "outputs": [],
   "source": [
    "# covert to dictionary of records\n",
    "corpus_df = corpus_df.to_dict('records')\n",
    "\n",
    "# create a temporary folder\n",
    "create_folder('{}/temp'.format(output))\n"
   ]
  },
  {
   "cell_type": "code",
   "execution_count": 7,
   "id": "bc6c6a2d-ada4-462c-9620-648e09faeffb",
   "metadata": {},
   "outputs": [
    {
     "name": "stdout",
     "output_type": "stream",
     "text": [
      "Splitting into sentences ...\n"
     ]
    },
    {
     "name": "stderr",
     "output_type": "stream",
     "text": [
      "  0%|                                                                                                           | 0/100 [00:00<?, ?it/s]/pvol/CANarEx/venv_canarex/lib/python3.9/site-packages/torch/autocast_mode.py:162: UserWarning: User provided device_type of 'cuda', but CUDA is not available. Disabling\n",
      "  warnings.warn('User provided device_type of \\'cuda\\', but CUDA is not available. Disabling')\n",
      "100%|█████████████████████████████████████████████████████████████████████████████████████████████████| 100/100 [15:34<00:00,  9.34s/it]\n"
     ]
    }
   ],
   "source": [
    "# convert documents to sentences\n",
    "sgenerator = SentenceGenerator()\n",
    "sgenerator(corpus_df, output_path='{}/temp/orig_sentences.jsonl'.format(output))"
   ]
  },
  {
   "cell_type": "markdown",
   "id": "d8f4bc71-14c9-4bbc-9ea9-fa9e2acd84e7",
   "metadata": {},
   "source": [
    "## Co-reference resolution"
   ]
  },
  {
   "cell_type": "markdown",
   "id": "1770f647-8f64-4a2d-bc52-9e67117e5243",
   "metadata": {},
   "source": [
    "### Download co-reference code"
   ]
  },
  {
   "cell_type": "code",
   "execution_count": null,
   "id": "22642f31-f746-4fd0-b3c4-1ce81001e436",
   "metadata": {},
   "outputs": [],
   "source": [
    "# download spanbert coref\n",
    "# ref: https://colab.research.google.com/drive/1SlERO9Uc9541qv6yH26LJz5IM9j7YVra#scrollTo=tlSneeenEwad\n",
    "! git clone git@github.com:mandarjoshi90/coref.git"
   ]
  },
  {
   "cell_type": "markdown",
   "id": "822b8d88-f88e-4a2d-980c-c72161d9bc28",
   "metadata": {},
   "source": [
    "### Run the below in command line inside CANarEx folder"
   ]
  },
  {
   "cell_type": "markdown",
   "id": "b8ed9c08-e46c-46f1-a8bb-09a536c317a7",
   "metadata": {
    "tags": []
   },
   "source": [
    "#REF:https://colab.research.google.com/drive/1SlERO9Uc9541qv6yH26LJz5IM9j7YVra#scrollTo=tlSneeenEwad\n",
    "\n",
    "#Fix requirements \n",
    "\n",
    "cd coref\n",
    "\n",
    "sed 's/MarkupSafe==1.0/MarkupSafe==1.1.1/; s/scikit-learn==0.19.1/scikit-learn==0.21/; s/scipy==1.0.0/scipy==1.6.2/' < requirements.txt > tmp\n",
    "\n",
    "mv tmp requirements.txt\n",
    "\n",
    "sed 's/.D.GLIBCXX.USE.CXX11.ABI.0//' < setup_all.sh  > tmp\n",
    "\n",
    "mv tmp setup_all.sh \n",
    "\n",
    "chmod u+x setup_all.sh \n",
    "\n",
    "#Create coref environment\n",
    "\n",
    "python3.7 -m venv venv_coref\n",
    "\n",
    "source venv_coref/bin/activate\n",
    "\n",
    "#Installation\n",
    "\n",
    "pip install -r requirements.txt --log install-log.txt -q\n",
    "\n",
    "pip install tokenization\n",
    "\n",
    "pip install sacremoses\n",
    "\n",
    "./setup_all.sh\n",
    "\n",
    "#Download spanbertbase\n",
    "\n",
    "wget -P . http://nlp.cs.washington.edu/pair2vec/spanbert_base.tar.gz\n",
    "\n",
    "tar xvzf spanbert_base.tar.gz -C .\n",
    "\n",
    "rm spanbert_base.tar.gz\n",
    "\n",
    "#run co-reference resolution on extracted sentences\n",
    "\n",
    "python 2.coref_bert.py"
   ]
  },
  {
   "cell_type": "markdown",
   "id": "a7325110-3459-42b0-9df7-6e9c79de2b55",
   "metadata": {},
   "source": [
    "## SRL extraction"
   ]
  },
  {
   "cell_type": "code",
   "execution_count": 11,
   "id": "92035779-8042-437f-ad50-c781469d58d2",
   "metadata": {},
   "outputs": [
    {
     "name": "stdout",
     "output_type": "stream",
     "text": [
      "Checking sentence length...\n",
      "100%|█████████████████████████████████████| 2631/2631 [00:00<00:00, 8487.92it/s]\n",
      "Running SRL...\n",
      "lerc is not a registered model.\n",
      "Some weights of the model checkpoint at bert-base-uncased were not used when initializing BertModel: ['cls.predictions.transform.dense.bias', 'cls.seq_relationship.weight', 'cls.seq_relationship.bias', 'cls.predictions.transform.LayerNorm.bias', 'cls.predictions.transform.LayerNorm.weight', 'cls.predictions.bias', 'cls.predictions.decoder.weight', 'cls.predictions.transform.dense.weight']\n",
      "- This IS expected if you are initializing BertModel from the checkpoint of a model trained on another task or with another architecture (e.g. initializing a BertForSequenceClassification model from a BertForPreTraining model).\n",
      "- This IS NOT expected if you are initializing BertModel from the checkpoint of a model that you expect to be exactly identical (initializing a BertForSequenceClassification model from a BertForSequenceClassification model).\n",
      "27it [44:46, 99.49s/it] \n",
      "Running SRL argument extraction...\n",
      "100%|█████████████████████████████████████| 2631/2631 [00:00<00:00, 5530.53it/s]\n",
      "Processing extracted SRL...\n",
      "Creating micro-narratives...\n",
      "100%|████████████████████████████████████| 2568/2568 [00:00<00:00, 10884.09it/s]\n",
      "Creating narratives...\n",
      "Cleaning narratives\n",
      "Saving cleaned narratives ..\n"
     ]
    }
   ],
   "source": [
    "!python 3.run_canarex.py"
   ]
  },
  {
   "cell_type": "markdown",
   "id": "f6d7905a-1b5f-49d5-a607-d8266ada0a92",
   "metadata": {
    "tags": []
   },
   "source": [
    "## Clustering"
   ]
  },
  {
   "cell_type": "markdown",
   "id": "c4ab159a-a439-4265-88ab-035393d05f31",
   "metadata": {},
   "source": [
    "### Textrank clustering"
   ]
  },
  {
   "cell_type": "code",
   "execution_count": 11,
   "id": "6654fc0c-44e1-4e5c-87ad-a84111eda63f",
   "metadata": {},
   "outputs": [
    {
     "name": "stdout",
     "output_type": "stream",
     "text": [
      "Creating textrank summary for ratio 0.05\n",
      "100%|█████████████████████████████████████████| 100/100 [00:01<00:00, 69.87it/s]\n",
      "Loading file data/hansard_sample/_first_nations_sample_final_narratives.jsonl ...\n",
      "Creating textrank summary for ratio 0.1\n",
      "100%|█████████████████████████████████████████| 100/100 [00:01<00:00, 67.51it/s]\n",
      "Loading file data/hansard_sample/_first_nations_sample_final_narratives.jsonl ...\n",
      "Creating textrank summary for ratio 0.2\n",
      "100%|█████████████████████████████████████████| 100/100 [00:01<00:00, 68.33it/s]\n",
      "Loading file data/hansard_sample/_first_nations_sample_final_narratives.jsonl ...\n",
      "Creating textrank summary for ratio 0.4\n",
      "100%|█████████████████████████████████████████| 100/100 [00:01<00:00, 68.65it/s]\n",
      "Loading file data/hansard_sample/_first_nations_sample_final_narratives.jsonl ...\n",
      "Running cluustering for ratio 0.05 ...\n",
      "Loading file data/hansard_sample/cluster/first_nations_tr_0.05_final_narratives.jsonl ...\n",
      "Creating embeddings ...\n",
      "Batches: 100%|████████████████████████████████████| 3/3 [00:03<00:00,  1.31s/it]\n",
      "Clustering document level ...\n",
      "Clustering k 2\n",
      "Running Kmeans ...\n",
      "Clustering k 3\n",
      "Running Kmeans ...\n",
      "Clustering k 4\n",
      "Running Kmeans ...\n",
      "Clustering k 5\n",
      "Running Kmeans ...\n",
      "WARNING clustering 169 points to 5 centroids: please provide at least 195 training points\n",
      "Running cluustering for ratio 0.1 ...\n",
      "Loading file data/hansard_sample/cluster/first_nations_tr_0.1_final_narratives.jsonl ...\n",
      "Creating embeddings ...\n",
      "Batches: 100%|████████████████████████████████████| 7/7 [00:07<00:00,  1.08s/it]\n",
      "Clustering document level ...\n",
      "Clustering k 2\n",
      "Running Kmeans ...\n",
      "Clustering k 3\n",
      "Running Kmeans ...\n",
      "Clustering k 4\n",
      "Running Kmeans ...\n",
      "Clustering k 5\n",
      "Running Kmeans ...\n",
      "Running cluustering for ratio 0.2 ...\n",
      "Loading file data/hansard_sample/cluster/first_nations_tr_0.2_final_narratives.jsonl ...\n",
      "Creating embeddings ...\n",
      "Batches: 100%|██████████████████████████████████| 14/14 [00:22<00:00,  1.61s/it]\n",
      "Clustering document level ...\n",
      "Clustering k 2\n",
      "Running Kmeans ...\n",
      "Clustering k 3\n",
      "Running Kmeans ...\n",
      "Clustering k 4\n",
      "Running Kmeans ...\n",
      "Clustering k 5\n",
      "Running Kmeans ...\n",
      "Running cluustering for ratio 0.4 ...\n",
      "Loading file data/hansard_sample/cluster/first_nations_tr_0.4_final_narratives.jsonl ...\n",
      "Creating embeddings ...\n",
      "Batches: 100%|██████████████████████████████████| 25/25 [00:38<00:00,  1.56s/it]\n",
      "Clustering document level ...\n",
      "Clustering k 2\n",
      "Running Kmeans ...\n",
      "Clustering k 3\n",
      "Running Kmeans ...\n",
      "Clustering k 4\n",
      "Running Kmeans ...\n",
      "Clustering k 5\n",
      "Running Kmeans ...\n",
      "Best model, ratio: 0.05, k: 5\n"
     ]
    }
   ],
   "source": [
    "from clustering import tr_cluster\n",
    "tr_cluster()"
   ]
  },
  {
   "cell_type": "markdown",
   "id": "69963765-f410-4ff0-a351-46e7efa3428b",
   "metadata": {},
   "source": [
    "### TopN clustering"
   ]
  },
  {
   "cell_type": "code",
   "execution_count": null,
   "id": "f3856790-7284-4054-9b9a-5f8257b5d66e",
   "metadata": {},
   "outputs": [
    {
     "name": "stdout",
     "output_type": "stream",
     "text": [
      "Running subset first_nations ...\n",
      "Loading file data/hansard_sample/_first_nations_sample_final_narratives.jsonl ...\n",
      "Loading embeddings from file path ..\n",
      "Clustering document level ...\n",
      "Clustering k 2\n",
      "Running Kmeans ...\n"
     ]
    },
    {
     "name": "stderr",
     "output_type": "stream",
     "text": [
      "WARNING clustering 45 points to 2 centroids: please provide at least 78 training points\n"
     ]
    },
    {
     "name": "stdout",
     "output_type": "stream",
     "text": [
      "Clustering k 2\n",
      "Running Kmeans ...\n"
     ]
    },
    {
     "name": "stderr",
     "output_type": "stream",
     "text": [
      "WARNING clustering 9 points to 2 centroids: please provide at least 78 training points\n"
     ]
    },
    {
     "name": "stdout",
     "output_type": "stream",
     "text": [
      "Clustering k 2\n",
      "Running Kmeans ...\n"
     ]
    },
    {
     "name": "stderr",
     "output_type": "stream",
     "text": [
      "WARNING clustering 29 points to 2 centroids: please provide at least 78 training points\n"
     ]
    },
    {
     "name": "stdout",
     "output_type": "stream",
     "text": [
      "Clustering k 2\n",
      "Running Kmeans ...\n"
     ]
    },
    {
     "name": "stderr",
     "output_type": "stream",
     "text": [
      "WARNING clustering 23 points to 2 centroids: please provide at least 78 training points\n"
     ]
    },
    {
     "name": "stdout",
     "output_type": "stream",
     "text": [
      "Clustering k 2\n",
      "Running Kmeans ...\n"
     ]
    },
    {
     "name": "stderr",
     "output_type": "stream",
     "text": [
      "WARNING clustering 42 points to 2 centroids: please provide at least 78 training points\n"
     ]
    },
    {
     "name": "stdout",
     "output_type": "stream",
     "text": [
      "Clustering k 2\n",
      "Running Kmeans ...\n"
     ]
    },
    {
     "name": "stderr",
     "output_type": "stream",
     "text": [
      "WARNING clustering 11 points to 2 centroids: please provide at least 78 training points\n"
     ]
    },
    {
     "name": "stdout",
     "output_type": "stream",
     "text": [
      "Clustering k 2\n",
      "Running Kmeans ...\n"
     ]
    },
    {
     "name": "stderr",
     "output_type": "stream",
     "text": [
      "WARNING clustering 43 points to 2 centroids: please provide at least 78 training points\n"
     ]
    },
    {
     "name": "stdout",
     "output_type": "stream",
     "text": [
      "Clustering k 2\n",
      "Running Kmeans ...\n"
     ]
    },
    {
     "name": "stderr",
     "output_type": "stream",
     "text": [
      "WARNING clustering 8 points to 2 centroids: please provide at least 78 training points\n"
     ]
    },
    {
     "name": "stdout",
     "output_type": "stream",
     "text": [
      "Clustering k 2\n",
      "Running Kmeans ...\n"
     ]
    },
    {
     "name": "stderr",
     "output_type": "stream",
     "text": [
      "WARNING clustering 41 points to 2 centroids: please provide at least 78 training points\n"
     ]
    },
    {
     "name": "stdout",
     "output_type": "stream",
     "text": [
      "Clustering k 2\n",
      "Running Kmeans ...\n"
     ]
    },
    {
     "name": "stderr",
     "output_type": "stream",
     "text": [
      "WARNING clustering 8 points to 2 centroids: please provide at least 78 training points\n"
     ]
    },
    {
     "name": "stdout",
     "output_type": "stream",
     "text": [
      "Clustering k 2\n",
      "Running Kmeans ...\n"
     ]
    },
    {
     "name": "stderr",
     "output_type": "stream",
     "text": [
      "WARNING clustering 19 points to 2 centroids: please provide at least 78 training points\n"
     ]
    },
    {
     "name": "stdout",
     "output_type": "stream",
     "text": [
      "Clustering k 2\n",
      "Running Kmeans ...\n"
     ]
    },
    {
     "name": "stderr",
     "output_type": "stream",
     "text": [
      "WARNING clustering 52 points to 2 centroids: please provide at least 78 training points\n"
     ]
    },
    {
     "name": "stdout",
     "output_type": "stream",
     "text": [
      "Clustering k 2\n",
      "Running Kmeans ...\n"
     ]
    },
    {
     "name": "stderr",
     "output_type": "stream",
     "text": [
      "WARNING clustering 37 points to 2 centroids: please provide at least 78 training points\n"
     ]
    },
    {
     "name": "stdout",
     "output_type": "stream",
     "text": [
      "Clustering k 2\n",
      "Running Kmeans ...\n"
     ]
    },
    {
     "name": "stderr",
     "output_type": "stream",
     "text": [
      "WARNING clustering 8 points to 2 centroids: please provide at least 78 training points\n"
     ]
    },
    {
     "name": "stdout",
     "output_type": "stream",
     "text": [
      "Clustering k 2\n",
      "Running Kmeans ...\n"
     ]
    },
    {
     "name": "stderr",
     "output_type": "stream",
     "text": [
      "WARNING clustering 23 points to 2 centroids: please provide at least 78 training points\n"
     ]
    },
    {
     "name": "stdout",
     "output_type": "stream",
     "text": [
      "Clustering k 2\n",
      "Running Kmeans ...\n"
     ]
    },
    {
     "name": "stderr",
     "output_type": "stream",
     "text": [
      "WARNING clustering 9 points to 2 centroids: please provide at least 78 training points\n"
     ]
    },
    {
     "name": "stdout",
     "output_type": "stream",
     "text": [
      "Clustering k 2\n",
      "Running Kmeans ...\n"
     ]
    },
    {
     "name": "stderr",
     "output_type": "stream",
     "text": [
      "WARNING clustering 48 points to 2 centroids: please provide at least 78 training points\n"
     ]
    },
    {
     "name": "stdout",
     "output_type": "stream",
     "text": [
      "Clustering k 2\n",
      "Running Kmeans ...\n"
     ]
    },
    {
     "name": "stderr",
     "output_type": "stream",
     "text": [
      "WARNING clustering 15 points to 2 centroids: please provide at least 78 training points\n"
     ]
    },
    {
     "name": "stdout",
     "output_type": "stream",
     "text": [
      "Clustering k 2\n",
      "Running Kmeans ...\n"
     ]
    },
    {
     "name": "stderr",
     "output_type": "stream",
     "text": [
      "WARNING clustering 51 points to 2 centroids: please provide at least 78 training points\n"
     ]
    },
    {
     "name": "stdout",
     "output_type": "stream",
     "text": [
      "Clustering k 2\n",
      "Running Kmeans ...\n"
     ]
    },
    {
     "name": "stderr",
     "output_type": "stream",
     "text": [
      "WARNING clustering 26 points to 2 centroids: please provide at least 78 training points\n"
     ]
    },
    {
     "name": "stdout",
     "output_type": "stream",
     "text": [
      "Clustering k 2\n",
      "Running Kmeans ...\n"
     ]
    },
    {
     "name": "stderr",
     "output_type": "stream",
     "text": [
      "WARNING clustering 9 points to 2 centroids: please provide at least 78 training points\n"
     ]
    },
    {
     "name": "stdout",
     "output_type": "stream",
     "text": [
      "Clustering k 2\n",
      "Running Kmeans ...\n"
     ]
    },
    {
     "name": "stderr",
     "output_type": "stream",
     "text": [
      "WARNING clustering 19 points to 2 centroids: please provide at least 78 training points\n"
     ]
    },
    {
     "name": "stdout",
     "output_type": "stream",
     "text": [
      "Clustering k 2\n",
      "Running Kmeans ...\n"
     ]
    },
    {
     "name": "stderr",
     "output_type": "stream",
     "text": [
      "WARNING clustering 13 points to 2 centroids: please provide at least 78 training points\n"
     ]
    },
    {
     "name": "stdout",
     "output_type": "stream",
     "text": [
      "Clustering k 2\n",
      "Running Kmeans ...\n"
     ]
    },
    {
     "name": "stderr",
     "output_type": "stream",
     "text": [
      "WARNING clustering 3 points to 2 centroids: please provide at least 78 training points\n"
     ]
    },
    {
     "name": "stdout",
     "output_type": "stream",
     "text": [
      "Clustering k 2\n",
      "Running Kmeans ...\n"
     ]
    },
    {
     "name": "stderr",
     "output_type": "stream",
     "text": [
      "WARNING clustering 19 points to 2 centroids: please provide at least 78 training points\n"
     ]
    },
    {
     "name": "stdout",
     "output_type": "stream",
     "text": [
      "Clustering k 2\n",
      "Running Kmeans ...\n"
     ]
    },
    {
     "name": "stderr",
     "output_type": "stream",
     "text": [
      "WARNING clustering 38 points to 2 centroids: please provide at least 78 training points\n"
     ]
    },
    {
     "name": "stdout",
     "output_type": "stream",
     "text": [
      "Clustering k 2\n",
      "Running Kmeans ...\n"
     ]
    },
    {
     "name": "stderr",
     "output_type": "stream",
     "text": [
      "WARNING clustering 61 points to 2 centroids: please provide at least 78 training points\n"
     ]
    },
    {
     "name": "stdout",
     "output_type": "stream",
     "text": [
      "Clustering k 2\n",
      "Running Kmeans ...\n"
     ]
    },
    {
     "name": "stderr",
     "output_type": "stream",
     "text": [
      "WARNING clustering 12 points to 2 centroids: please provide at least 78 training points\n"
     ]
    },
    {
     "name": "stdout",
     "output_type": "stream",
     "text": [
      "Clustering k 2\n",
      "Running Kmeans ...\n"
     ]
    },
    {
     "name": "stderr",
     "output_type": "stream",
     "text": [
      "WARNING clustering 44 points to 2 centroids: please provide at least 78 training points\n"
     ]
    },
    {
     "name": "stdout",
     "output_type": "stream",
     "text": [
      "Clustering k 2\n",
      "Running Kmeans ...\n"
     ]
    },
    {
     "name": "stderr",
     "output_type": "stream",
     "text": [
      "WARNING clustering 55 points to 2 centroids: please provide at least 78 training points\n"
     ]
    },
    {
     "name": "stdout",
     "output_type": "stream",
     "text": [
      "Clustering k 2\n",
      "Running Kmeans ...\n"
     ]
    },
    {
     "name": "stderr",
     "output_type": "stream",
     "text": [
      "WARNING clustering 22 points to 2 centroids: please provide at least 78 training points\n"
     ]
    },
    {
     "name": "stdout",
     "output_type": "stream",
     "text": [
      "Clustering k 2\n",
      "Running Kmeans ...\n"
     ]
    },
    {
     "name": "stderr",
     "output_type": "stream",
     "text": [
      "WARNING clustering 42 points to 2 centroids: please provide at least 78 training points\n"
     ]
    },
    {
     "name": "stdout",
     "output_type": "stream",
     "text": [
      "Clustering k 2\n",
      "Running Kmeans ...\n"
     ]
    },
    {
     "name": "stderr",
     "output_type": "stream",
     "text": [
      "WARNING clustering 33 points to 2 centroids: please provide at least 78 training points\n"
     ]
    },
    {
     "name": "stdout",
     "output_type": "stream",
     "text": [
      "Clustering k 2\n",
      "Running Kmeans ...\n"
     ]
    },
    {
     "name": "stderr",
     "output_type": "stream",
     "text": [
      "WARNING clustering 45 points to 2 centroids: please provide at least 78 training points\n"
     ]
    },
    {
     "name": "stdout",
     "output_type": "stream",
     "text": [
      "Clustering k 2\n",
      "Running Kmeans ...\n"
     ]
    },
    {
     "name": "stderr",
     "output_type": "stream",
     "text": [
      "WARNING clustering 21 points to 2 centroids: please provide at least 78 training points\n"
     ]
    },
    {
     "name": "stdout",
     "output_type": "stream",
     "text": [
      "Clustering k 2\n",
      "Running Kmeans ...\n"
     ]
    },
    {
     "name": "stderr",
     "output_type": "stream",
     "text": [
      "WARNING clustering 29 points to 2 centroids: please provide at least 78 training points\n"
     ]
    },
    {
     "name": "stdout",
     "output_type": "stream",
     "text": [
      "Clustering k 2\n",
      "Running Kmeans ...\n"
     ]
    },
    {
     "name": "stderr",
     "output_type": "stream",
     "text": [
      "WARNING clustering 3 points to 2 centroids: please provide at least 78 training points\n"
     ]
    },
    {
     "name": "stdout",
     "output_type": "stream",
     "text": [
      "Clustering k 2\n",
      "Running Kmeans ...\n"
     ]
    },
    {
     "name": "stderr",
     "output_type": "stream",
     "text": [
      "WARNING clustering 19 points to 2 centroids: please provide at least 78 training points\n"
     ]
    },
    {
     "name": "stdout",
     "output_type": "stream",
     "text": [
      "Clustering k 2\n",
      "Running Kmeans ...\n"
     ]
    },
    {
     "name": "stderr",
     "output_type": "stream",
     "text": [
      "WARNING clustering 48 points to 2 centroids: please provide at least 78 training points\n"
     ]
    },
    {
     "name": "stdout",
     "output_type": "stream",
     "text": [
      "Clustering k 2\n",
      "Running Kmeans ...\n"
     ]
    },
    {
     "name": "stderr",
     "output_type": "stream",
     "text": [
      "WARNING clustering 44 points to 2 centroids: please provide at least 78 training points\n"
     ]
    },
    {
     "name": "stdout",
     "output_type": "stream",
     "text": [
      "Clustering k 2\n",
      "Running Kmeans ...\n",
      "Clustering k 2\n",
      "Running Kmeans ...\n"
     ]
    },
    {
     "name": "stderr",
     "output_type": "stream",
     "text": [
      "WARNING clustering 18 points to 2 centroids: please provide at least 78 training points\n"
     ]
    },
    {
     "name": "stdout",
     "output_type": "stream",
     "text": [
      "Clustering k 2\n",
      "Running Kmeans ...\n"
     ]
    },
    {
     "name": "stderr",
     "output_type": "stream",
     "text": [
      "WARNING clustering 29 points to 2 centroids: please provide at least 78 training points\n"
     ]
    },
    {
     "name": "stdout",
     "output_type": "stream",
     "text": [
      "Clustering k 2\n",
      "Running Kmeans ...\n"
     ]
    },
    {
     "name": "stderr",
     "output_type": "stream",
     "text": [
      "WARNING clustering 49 points to 2 centroids: please provide at least 78 training points\n"
     ]
    },
    {
     "name": "stdout",
     "output_type": "stream",
     "text": [
      "Clustering k 2\n",
      "Running Kmeans ...\n"
     ]
    },
    {
     "name": "stderr",
     "output_type": "stream",
     "text": [
      "WARNING clustering 5 points to 2 centroids: please provide at least 78 training points\n"
     ]
    },
    {
     "name": "stdout",
     "output_type": "stream",
     "text": [
      "Clustering k 2\n",
      "Running Kmeans ...\n"
     ]
    },
    {
     "name": "stderr",
     "output_type": "stream",
     "text": [
      "WARNING clustering 50 points to 2 centroids: please provide at least 78 training points\n"
     ]
    },
    {
     "name": "stdout",
     "output_type": "stream",
     "text": [
      "Clustering k 2\n",
      "Running Kmeans ...\n"
     ]
    },
    {
     "name": "stderr",
     "output_type": "stream",
     "text": [
      "WARNING clustering 34 points to 2 centroids: please provide at least 78 training points\n"
     ]
    },
    {
     "name": "stdout",
     "output_type": "stream",
     "text": [
      "Clustering k 2\n",
      "Running Kmeans ...\n"
     ]
    },
    {
     "name": "stderr",
     "output_type": "stream",
     "text": [
      "WARNING clustering 42 points to 2 centroids: please provide at least 78 training points\n"
     ]
    },
    {
     "name": "stdout",
     "output_type": "stream",
     "text": [
      "Clustering k 2\n",
      "Running Kmeans ...\n"
     ]
    },
    {
     "name": "stderr",
     "output_type": "stream",
     "text": [
      "WARNING clustering 27 points to 2 centroids: please provide at least 78 training points\n"
     ]
    },
    {
     "name": "stdout",
     "output_type": "stream",
     "text": [
      "Clustering k 2\n",
      "Running Kmeans ...\n",
      "Clustering k 2\n",
      "Running Kmeans ...\n"
     ]
    },
    {
     "name": "stderr",
     "output_type": "stream",
     "text": [
      "WARNING clustering 53 points to 2 centroids: please provide at least 78 training points\n"
     ]
    },
    {
     "name": "stdout",
     "output_type": "stream",
     "text": [
      "Clustering k 2\n",
      "Running Kmeans ...\n"
     ]
    },
    {
     "name": "stderr",
     "output_type": "stream",
     "text": [
      "WARNING clustering 11 points to 2 centroids: please provide at least 78 training points\n"
     ]
    },
    {
     "name": "stdout",
     "output_type": "stream",
     "text": [
      "Clustering k 2\n",
      "Running Kmeans ...\n"
     ]
    },
    {
     "name": "stderr",
     "output_type": "stream",
     "text": [
      "WARNING clustering 9 points to 2 centroids: please provide at least 78 training points\n"
     ]
    },
    {
     "name": "stdout",
     "output_type": "stream",
     "text": [
      "Clustering k 2\n",
      "Running Kmeans ...\n"
     ]
    },
    {
     "name": "stderr",
     "output_type": "stream",
     "text": [
      "WARNING clustering 76 points to 2 centroids: please provide at least 78 training points\n"
     ]
    },
    {
     "name": "stdout",
     "output_type": "stream",
     "text": [
      "Clustering k 2\n",
      "Running Kmeans ...\n"
     ]
    },
    {
     "name": "stderr",
     "output_type": "stream",
     "text": [
      "WARNING clustering 50 points to 2 centroids: please provide at least 78 training points\n"
     ]
    },
    {
     "name": "stdout",
     "output_type": "stream",
     "text": [
      "Clustering k 2\n",
      "Running Kmeans ...\n"
     ]
    },
    {
     "name": "stderr",
     "output_type": "stream",
     "text": [
      "WARNING clustering 46 points to 2 centroids: please provide at least 78 training points\n"
     ]
    },
    {
     "name": "stdout",
     "output_type": "stream",
     "text": [
      "Clustering k 2\n",
      "Running Kmeans ...\n"
     ]
    },
    {
     "name": "stderr",
     "output_type": "stream",
     "text": [
      "WARNING clustering 54 points to 2 centroids: please provide at least 78 training points\n"
     ]
    },
    {
     "name": "stdout",
     "output_type": "stream",
     "text": [
      "Clustering k 2\n",
      "Running Kmeans ...\n"
     ]
    },
    {
     "name": "stderr",
     "output_type": "stream",
     "text": [
      "WARNING clustering 26 points to 2 centroids: please provide at least 78 training points\n"
     ]
    },
    {
     "name": "stdout",
     "output_type": "stream",
     "text": [
      "Clustering k 2\n",
      "Running Kmeans ...\n"
     ]
    },
    {
     "name": "stderr",
     "output_type": "stream",
     "text": [
      "WARNING clustering 24 points to 2 centroids: please provide at least 78 training points\n"
     ]
    },
    {
     "name": "stdout",
     "output_type": "stream",
     "text": [
      "Clustering k 2\n",
      "Running Kmeans ...\n"
     ]
    },
    {
     "name": "stderr",
     "output_type": "stream",
     "text": [
      "WARNING clustering 39 points to 2 centroids: please provide at least 78 training points\n"
     ]
    },
    {
     "name": "stdout",
     "output_type": "stream",
     "text": [
      "Clustering k 2\n",
      "Running Kmeans ...\n"
     ]
    },
    {
     "name": "stderr",
     "output_type": "stream",
     "text": [
      "WARNING clustering 22 points to 2 centroids: please provide at least 78 training points\n"
     ]
    },
    {
     "name": "stdout",
     "output_type": "stream",
     "text": [
      "Clustering k 2\n",
      "Running Kmeans ...\n"
     ]
    },
    {
     "name": "stderr",
     "output_type": "stream",
     "text": [
      "WARNING clustering 22 points to 2 centroids: please provide at least 78 training points\n"
     ]
    },
    {
     "name": "stdout",
     "output_type": "stream",
     "text": [
      "Clustering k 2\n",
      "Running Kmeans ...\n"
     ]
    },
    {
     "name": "stderr",
     "output_type": "stream",
     "text": [
      "WARNING clustering 24 points to 2 centroids: please provide at least 78 training points\n"
     ]
    },
    {
     "name": "stdout",
     "output_type": "stream",
     "text": [
      "Clustering k 2\n",
      "Running Kmeans ...\n"
     ]
    },
    {
     "name": "stderr",
     "output_type": "stream",
     "text": [
      "WARNING clustering 35 points to 2 centroids: please provide at least 78 training points\n"
     ]
    },
    {
     "name": "stdout",
     "output_type": "stream",
     "text": [
      "Clustering k 2\n",
      "Running Kmeans ...\n"
     ]
    },
    {
     "name": "stderr",
     "output_type": "stream",
     "text": [
      "WARNING clustering 34 points to 2 centroids: please provide at least 78 training points\n"
     ]
    },
    {
     "name": "stdout",
     "output_type": "stream",
     "text": [
      "Clustering k 2\n",
      "Running Kmeans ...\n"
     ]
    },
    {
     "name": "stderr",
     "output_type": "stream",
     "text": [
      "WARNING clustering 36 points to 2 centroids: please provide at least 78 training points\n"
     ]
    },
    {
     "name": "stdout",
     "output_type": "stream",
     "text": [
      "Clustering k 2\n",
      "Running Kmeans ...\n"
     ]
    },
    {
     "name": "stderr",
     "output_type": "stream",
     "text": [
      "WARNING clustering 23 points to 2 centroids: please provide at least 78 training points\n"
     ]
    },
    {
     "name": "stdout",
     "output_type": "stream",
     "text": [
      "Clustering k 2\n",
      "Running Kmeans ...\n"
     ]
    },
    {
     "name": "stderr",
     "output_type": "stream",
     "text": [
      "WARNING clustering 8 points to 2 centroids: please provide at least 78 training points\n"
     ]
    },
    {
     "name": "stdout",
     "output_type": "stream",
     "text": [
      "Clustering k 2\n",
      "Running Kmeans ...\n"
     ]
    },
    {
     "name": "stderr",
     "output_type": "stream",
     "text": [
      "WARNING clustering 29 points to 2 centroids: please provide at least 78 training points\n"
     ]
    },
    {
     "name": "stdout",
     "output_type": "stream",
     "text": [
      "Clustering k 2\n",
      "Running Kmeans ...\n"
     ]
    },
    {
     "name": "stderr",
     "output_type": "stream",
     "text": [
      "WARNING clustering 38 points to 2 centroids: please provide at least 78 training points\n"
     ]
    },
    {
     "name": "stdout",
     "output_type": "stream",
     "text": [
      "Clustering k 2\n",
      "Running Kmeans ...\n"
     ]
    },
    {
     "name": "stderr",
     "output_type": "stream",
     "text": [
      "WARNING clustering 46 points to 2 centroids: please provide at least 78 training points\n"
     ]
    },
    {
     "name": "stdout",
     "output_type": "stream",
     "text": [
      "Clustering k 2\n",
      "Running Kmeans ...\n"
     ]
    },
    {
     "name": "stderr",
     "output_type": "stream",
     "text": [
      "WARNING clustering 60 points to 2 centroids: please provide at least 78 training points\n"
     ]
    },
    {
     "name": "stdout",
     "output_type": "stream",
     "text": [
      "Clustering k 2\n",
      "Running Kmeans ...\n"
     ]
    },
    {
     "name": "stderr",
     "output_type": "stream",
     "text": [
      "WARNING clustering 3 points to 2 centroids: please provide at least 78 training points\n"
     ]
    },
    {
     "name": "stdout",
     "output_type": "stream",
     "text": [
      "Clustering k 2\n",
      "Running Kmeans ...\n"
     ]
    },
    {
     "name": "stderr",
     "output_type": "stream",
     "text": [
      "WARNING clustering 24 points to 2 centroids: please provide at least 78 training points\n"
     ]
    },
    {
     "name": "stdout",
     "output_type": "stream",
     "text": [
      "Clustering k 2\n",
      "Running Kmeans ...\n"
     ]
    },
    {
     "name": "stderr",
     "output_type": "stream",
     "text": [
      "WARNING clustering 12 points to 2 centroids: please provide at least 78 training points\n"
     ]
    },
    {
     "name": "stdout",
     "output_type": "stream",
     "text": [
      "Clustering k 2\n",
      "Running Kmeans ...\n"
     ]
    },
    {
     "name": "stderr",
     "output_type": "stream",
     "text": [
      "WARNING clustering 47 points to 2 centroids: please provide at least 78 training points\n"
     ]
    },
    {
     "name": "stdout",
     "output_type": "stream",
     "text": [
      "Clustering k 2\n",
      "Running Kmeans ...\n"
     ]
    },
    {
     "name": "stderr",
     "output_type": "stream",
     "text": [
      "WARNING clustering 54 points to 2 centroids: please provide at least 78 training points\n"
     ]
    },
    {
     "name": "stdout",
     "output_type": "stream",
     "text": [
      "Clustering k 2\n",
      "Running Kmeans ...\n"
     ]
    },
    {
     "name": "stderr",
     "output_type": "stream",
     "text": [
      "WARNING clustering 33 points to 2 centroids: please provide at least 78 training points\n"
     ]
    },
    {
     "name": "stdout",
     "output_type": "stream",
     "text": [
      "Clustering k 2\n",
      "Running Kmeans ...\n"
     ]
    },
    {
     "name": "stderr",
     "output_type": "stream",
     "text": [
      "WARNING clustering 24 points to 2 centroids: please provide at least 78 training points\n"
     ]
    },
    {
     "name": "stdout",
     "output_type": "stream",
     "text": [
      "Clustering k 2\n",
      "Running Kmeans ...\n"
     ]
    },
    {
     "name": "stderr",
     "output_type": "stream",
     "text": [
      "WARNING clustering 39 points to 2 centroids: please provide at least 78 training points\n"
     ]
    },
    {
     "name": "stdout",
     "output_type": "stream",
     "text": [
      "Clustering k 2\n",
      "Running Kmeans ...\n"
     ]
    },
    {
     "name": "stderr",
     "output_type": "stream",
     "text": [
      "WARNING clustering 53 points to 2 centroids: please provide at least 78 training points\n"
     ]
    },
    {
     "name": "stdout",
     "output_type": "stream",
     "text": [
      "Clustering k 2\n",
      "Running Kmeans ...\n"
     ]
    },
    {
     "name": "stderr",
     "output_type": "stream",
     "text": [
      "WARNING clustering 29 points to 2 centroids: please provide at least 78 training points\n"
     ]
    },
    {
     "name": "stdout",
     "output_type": "stream",
     "text": [
      "Clustering k 2\n",
      "Running Kmeans ...\n"
     ]
    },
    {
     "name": "stderr",
     "output_type": "stream",
     "text": [
      "WARNING clustering 56 points to 2 centroids: please provide at least 78 training points\n"
     ]
    },
    {
     "name": "stdout",
     "output_type": "stream",
     "text": [
      "Clustering k 2\n",
      "Running Kmeans ...\n"
     ]
    },
    {
     "name": "stderr",
     "output_type": "stream",
     "text": [
      "WARNING clustering 21 points to 2 centroids: please provide at least 78 training points\n"
     ]
    },
    {
     "name": "stdout",
     "output_type": "stream",
     "text": [
      "Clustering k 2\n",
      "Running Kmeans ...\n"
     ]
    },
    {
     "name": "stderr",
     "output_type": "stream",
     "text": [
      "WARNING clustering 43 points to 2 centroids: please provide at least 78 training points\n"
     ]
    },
    {
     "name": "stdout",
     "output_type": "stream",
     "text": [
      "Clustering k 2\n",
      "Running Kmeans ...\n"
     ]
    },
    {
     "name": "stderr",
     "output_type": "stream",
     "text": [
      "WARNING clustering 44 points to 2 centroids: please provide at least 78 training points\n"
     ]
    },
    {
     "name": "stdout",
     "output_type": "stream",
     "text": [
      "Clustering k 2\n",
      "Running Kmeans ...\n"
     ]
    },
    {
     "name": "stderr",
     "output_type": "stream",
     "text": [
      "WARNING clustering 16 points to 2 centroids: please provide at least 78 training points\n"
     ]
    },
    {
     "name": "stdout",
     "output_type": "stream",
     "text": [
      "Clustering k 2\n",
      "Running Kmeans ...\n"
     ]
    },
    {
     "name": "stderr",
     "output_type": "stream",
     "text": [
      "WARNING clustering 47 points to 2 centroids: please provide at least 78 training points\n"
     ]
    },
    {
     "name": "stdout",
     "output_type": "stream",
     "text": [
      "Clustering k 2\n",
      "Running Kmeans ...\n"
     ]
    },
    {
     "name": "stderr",
     "output_type": "stream",
     "text": [
      "WARNING clustering 3 points to 2 centroids: please provide at least 78 training points\n"
     ]
    }
   ],
   "source": [
    "from clustering import topn_cluster\n",
    "topn_cluster()"
   ]
  },
  {
   "cell_type": "markdown",
   "id": "4ec1d9af-bff1-4f58-8845-79a26ae9e74f",
   "metadata": {},
   "source": [
    "## Results"
   ]
  },
  {
   "cell_type": "markdown",
   "id": "8579dd75-2bb7-455f-8be6-5f78af3549f6",
   "metadata": {},
   "source": [
    "### Co-referenced data"
   ]
  },
  {
   "cell_type": "code",
   "execution_count": 5,
   "id": "cfb96435-9518-405d-af3b-c09b0b79e290",
   "metadata": {},
   "outputs": [],
   "source": [
    "data_folder = 'data/hansard_sample/'\n",
    "input_file = 'first_nations_sample.jsonl'\n",
    "coref_file='_first_nations_sample.jsonl'"
   ]
  },
  {
   "cell_type": "code",
   "execution_count": 6,
   "id": "26dc8ade-cd19-4f97-a1f2-05376a23f04d",
   "metadata": {},
   "outputs": [],
   "source": [
    "df = pd.read_json('{}/{}'.format(data_folder, coref_file), \n",
    "                  lines = True)"
   ]
  },
  {
   "cell_type": "code",
   "execution_count": 7,
   "id": "bf4fa55b-426a-4e87-9c44-95521d1d3e37",
   "metadata": {},
   "outputs": [
    {
     "data": {
      "text/html": [
       "<div>\n",
       "<style scoped>\n",
       "    .dataframe tbody tr th:only-of-type {\n",
       "        vertical-align: middle;\n",
       "    }\n",
       "\n",
       "    .dataframe tbody tr th {\n",
       "        vertical-align: top;\n",
       "    }\n",
       "\n",
       "    .dataframe thead th {\n",
       "        text-align: right;\n",
       "    }\n",
       "</style>\n",
       "<table border=\"1\" class=\"dataframe\">\n",
       "  <thead>\n",
       "    <tr style=\"text-align: right;\">\n",
       "      <th></th>\n",
       "      <th>major_topic</th>\n",
       "      <th>minor_topic</th>\n",
       "      <th>speaker</th>\n",
       "      <th>content</th>\n",
       "      <th>groups</th>\n",
       "      <th>issues</th>\n",
       "      <th>date</th>\n",
       "      <th>id</th>\n",
       "      <th>year</th>\n",
       "      <th>month</th>\n",
       "      <th>entities</th>\n",
       "      <th>sentences</th>\n",
       "      <th>sentences_idx</th>\n",
       "      <th>clusters</th>\n",
       "    </tr>\n",
       "  </thead>\n",
       "  <tbody>\n",
       "    <tr>\n",
       "      <th>0</th>\n",
       "      <td>\\nPRIVATE MEMBERS’ BUSINESS</td>\n",
       "      <td>\\nDisability-Inclusive Australian Aid Program</td>\n",
       "      <td>Shayne Kenneth Neumann</td>\n",
       "      <td>I heard the member for Bennelong talking about...</td>\n",
       "      <td>[First Nations, Older people, People living in...</td>\n",
       "      <td>[Shelter, Education, Voice, Negative emotions,...</td>\n",
       "      <td>2011-03-21</td>\n",
       "      <td>02bcdcc4-b661-4172-833d-1980a99fc424</td>\n",
       "      <td>2011</td>\n",
       "      <td>3</td>\n",
       "      <td>[{'text': 'Bennelong', 'type': 'GPE'}, {'text'...</td>\n",
       "      <td>[I heard the member for Bennelong talking abou...</td>\n",
       "      <td>[1, 2, 3, 4, 5, 6, 7, 8, 9, 10, 11, 12, 13, 14...</td>\n",
       "      <td>[[I, I, I, my, I, I, I, I], [the member for Be...</td>\n",
       "    </tr>\n",
       "    <tr>\n",
       "      <th>1</th>\n",
       "      <td>\\nSTATEMENTS BY MEMBERS</td>\n",
       "      <td>\\nQueensland State Election</td>\n",
       "      <td>Graham Douglas Perrett</td>\n",
       "      <td>The LNP have shown The LNP true colours in thi...</td>\n",
       "      <td>[First Nations, Racial minorities]</td>\n",
       "      <td>[Negative emotions, Prejudice and discrimination]</td>\n",
       "      <td>2020-10-21</td>\n",
       "      <td>0d82ed5b-44f5-41cc-9cac-4f6724886f15</td>\n",
       "      <td>2020</td>\n",
       "      <td>10</td>\n",
       "      <td>[{'text': 'LNP', 'type': 'ORG'}, {'text': 'Que...</td>\n",
       "      <td>[The LNP have shown The LNP true colours in th...</td>\n",
       "      <td>[1, 2, 3, 4, 5, 6, 7, 8, 9, 10, 11, 12, 13, 14...</td>\n",
       "      <td>[[The LNP, their, They, the Liberal National P...</td>\n",
       "    </tr>\n",
       "  </tbody>\n",
       "</table>\n",
       "</div>"
      ],
      "text/plain": [
       "                    major_topic  \\\n",
       "0  \\nPRIVATE MEMBERS’ BUSINESS    \n",
       "1      \\nSTATEMENTS BY MEMBERS    \n",
       "\n",
       "                                      minor_topic                 speaker  \\\n",
       "0  \\nDisability-Inclusive Australian Aid Program   Shayne Kenneth Neumann   \n",
       "1                    \\nQueensland State Election   Graham Douglas Perrett   \n",
       "\n",
       "                                             content  \\\n",
       "0  I heard the member for Bennelong talking about...   \n",
       "1  The LNP have shown The LNP true colours in thi...   \n",
       "\n",
       "                                              groups  \\\n",
       "0  [First Nations, Older people, People living in...   \n",
       "1                 [First Nations, Racial minorities]   \n",
       "\n",
       "                                              issues       date  \\\n",
       "0  [Shelter, Education, Voice, Negative emotions,... 2011-03-21   \n",
       "1  [Negative emotions, Prejudice and discrimination] 2020-10-21   \n",
       "\n",
       "                                     id  year  month  \\\n",
       "0  02bcdcc4-b661-4172-833d-1980a99fc424  2011      3   \n",
       "1  0d82ed5b-44f5-41cc-9cac-4f6724886f15  2020     10   \n",
       "\n",
       "                                            entities  \\\n",
       "0  [{'text': 'Bennelong', 'type': 'GPE'}, {'text'...   \n",
       "1  [{'text': 'LNP', 'type': 'ORG'}, {'text': 'Que...   \n",
       "\n",
       "                                           sentences  \\\n",
       "0  [I heard the member for Bennelong talking abou...   \n",
       "1  [The LNP have shown The LNP true colours in th...   \n",
       "\n",
       "                                       sentences_idx  \\\n",
       "0  [1, 2, 3, 4, 5, 6, 7, 8, 9, 10, 11, 12, 13, 14...   \n",
       "1  [1, 2, 3, 4, 5, 6, 7, 8, 9, 10, 11, 12, 13, 14...   \n",
       "\n",
       "                                            clusters  \n",
       "0  [[I, I, I, my, I, I, I, I], [the member for Be...  \n",
       "1  [[The LNP, their, They, the Liberal National P...  "
      ]
     },
     "execution_count": 7,
     "metadata": {},
     "output_type": "execute_result"
    }
   ],
   "source": [
    "df.head(2)"
   ]
  },
  {
   "cell_type": "code",
   "execution_count": 10,
   "id": "f2914825-f9fe-4c8f-b2a9-06f0bbba78fc",
   "metadata": {},
   "outputs": [
    {
     "data": {
      "text/plain": [
       "\"I heard the member for Bennelong talking about perceived, alleged Labor government waste. I want to tell the member for Bennelong this: under the Howard government profligate spending was rampant. Howard never found a middle class welfare rort Howard did not want to fund. We have made $83.6 billion in savings in the last three years--far more than the Howard government ever made. Yet those opposite spend most of those opposite time in the red chamber trying to knock off We savings measures. And those opposite come into the red chamber and have the gall to make statements like those of the member for Bennelong! When Paralympian Kurt Fearnley crawled onto an airline flight in 2009 after refusing to be pushed around in an airline wheelchair, all Australians shuddered. Paralympian Kurt Fearnley had just crawled the Kokoda Track and earlier had won Paralympian Kurt Fearnley fourth New York wheelchair marathon. I applaud the member for Bennelong for moving this disability inclusive development aid motion and speaking in support of this disability inclusive development aid motion. Paralympian Kurt Fearnley demonstrated to us that people living with disabilities can determine what people living with disabilities need and what services should be delivered to people living with disabilities. And domestically the Howard government has shown the Howard government commitment to antidiscrimination against those suffering from disability by the legislative law reforms the Howard government have undertaken and by the Howard government commitment to support disability support pensioners and disability support pensioners carers with massive increases in the pension and through secure and sustainable redevelopment of the pension. the Howard government commitment to carers, carer payments and carer allowance is exemplary and the Howard government commitment to carers, carer payments and carer allowance is far more than those opposite ever did during those opposite many years of tenure on the Treasury benches. this disability inclusive development aid motion recognises the importance of active participation by people with disability in the formulation of policy and the monitoring of funding. the Howard government is committed to ensuring that people with disability have the opportunity to reach people with disability full potential as equal citizens and not just objects of charity, which was how people with disability were so often thought of by the Howard government. Just this week the Minister for Families, Housing, Community Services and Indigenous Affairs launched the National Disability Strategy, a 10-year national plan. those opposite never had the wit nor the wisdom to do such a thing. the National Disability Strategy, a 10-year national plan is a plan to improve the lives of Australians with disability, Australians with disability families and Australians with disability carers. the National Disability Strategy, a 10-year national plan is a particularly significant undertaking, done in partnership with the states and territories under COAG. the National Disability Strategy, a 10-year national plan acknowledges that successful implementation requires collaboration with people with disability. requires is what is happening here in Australia. The World Health Organisation tells us that 10 per cent of the world's population is living with a disability, and 80 per cent of 10 per cent of the world's population are living in developing countries--many in us neighbourhood, in the Pacific rim and in South-East Asia. South-East Asia is the world's second most populous region and The World Health Organisation estimates that about 140 million people of all ages in South-East Asia are living with a disability. Thirty per cent or 42 million of about 140 million people of all ages in South-East Asia are children. High levels of illiteracy, gender disparity and inequality, poverty and child labour may define the socio-economic context of South-East Asia and also contribute to the risk of disabilities. In South-East Asia large numbers of children with disability, who struggle daily with additional hardships, are not getting the chance to improve large numbers of children with disability, who struggle daily with additional hardships lives through education. large numbers of children with disability, who struggle daily with additional hardships are the world's largest marginalised group. In 2008 the Howard government ratified the UN Convention on the Rights of Persons with Disability, formally ratifying our inherent belief that people with disabilities are entitled to have the same rights as many others and are citizens, not objects of charity. All people, including children, deserve the right to full participation in the community. The devastation recently experienced in I home state of Queensland and in Christchurch in New Zealand, and which was climaxed in our thinking in the Japanese earthquake, tsunami and nuclear threat, highlights the timeliness of this disability inclusive development aid motion, and I commend the member for Bennelong for bringing this disability inclusive development aid motion. Past experience demonstrates that people with disability are more likely to be left behind or abandoned during evacuation in disasters and conflicts. We saw that in Hurricane Katrina in New Orleans in the United States. During the Pakistan floods in 2010,20 million people were affected, killing 1750 and submerging an area larger than the UK. In Australia and New Zealand during the recent crises local governments responded to communities without essential services. However, from time to time we even saw people with disability unable to use the portaloos. It is important for AusAID and the Departments of Foreign Affairs and Trade and Defence to continue AusAID and the Departments of Foreign Affairs and Trade and Defence engagement with disability-inclusive development policy, particularly when you consider the work that goes on internationally during disasters and conflicts. I commend the member for Bennelong for this disability inclusive development aid motion and I wholeheartedly support this disability inclusive development aid motion and I condemn those opposite for those opposite failures with respect to disabilities.\""
      ]
     },
     "execution_count": 10,
     "metadata": {},
     "output_type": "execute_result"
    }
   ],
   "source": [
    "# coreferenced content\n",
    "df.iloc[0].content"
   ]
  },
  {
   "cell_type": "code",
   "execution_count": 12,
   "id": "f6ac206c-7845-4edb-963a-8cd7b6323dce",
   "metadata": {},
   "outputs": [
    {
     "data": {
      "text/plain": [
       "[['I', 'I', 'I', 'my', 'I', 'I', 'I', 'I'],\n",
       " ['the member for Bennelong',\n",
       "  'him',\n",
       "  'the member for Bennelong',\n",
       "  'the member for Fremantle',\n",
       "  'the member',\n",
       "  'the member'],\n",
       " ['Howard', 'John Howard', 'he', 'Howard', 'Howard'],\n",
       " ['the Howard government',\n",
       "  'the Howard government',\n",
       "  'the federal Labor government',\n",
       "  'its',\n",
       "  'we',\n",
       "  'our',\n",
       "  'Our',\n",
       "  'The federal Labor government',\n",
       "  'the Howard coalition government',\n",
       "  'the federal Labor government'],\n",
       " ['those opposite',\n",
       "  'their',\n",
       "  'they',\n",
       "  'those opposite',\n",
       "  'their',\n",
       "  'Those opposite'],\n",
       " ['We', 'our'],\n",
       " ['the red chamber', 'this place'],\n",
       " ['Paralympian Kurt Fearnley', 'Kurt', 'his', 'Kurt Fearnley'],\n",
       " ['this disability inclusive development aid motion',\n",
       "  'it',\n",
       "  'This motion',\n",
       "  'this motion',\n",
       "  'it',\n",
       "  'this motion',\n",
       "  'it'],\n",
       " ['people living with disabilities', 'they', 'them'],\n",
       " ['disability support pensioners', 'their'],\n",
       " ['the pension', 'the pension'],\n",
       " ['the Howard government commitment to carers , carer payments and carer allowance',\n",
       "  'it'],\n",
       " ['people with disability', 'people with disability', 'their', 'they'],\n",
       " ['the National Disability Strategy , a 10 - year national plan',\n",
       "  'It',\n",
       "  'This',\n",
       "  'The strategy'],\n",
       " ['Australians with disability', 'their', 'their'],\n",
       " ['requires', 'That'],\n",
       " [\"10 per cent of the world ' s population\", 'those'],\n",
       " ['us', 'our'],\n",
       " ['South - East Asia',\n",
       "  'Southern Asia',\n",
       "  'this region',\n",
       "  'the region',\n",
       "  'South Asia'],\n",
       " [\"the world ' s\", \"the world ' s\", \"the world ' s\"],\n",
       " ['The World Health Organisation', 'the World Health Organisation'],\n",
       " ['about 140 million people of all ages in South - East Asia ', 'those'],\n",
       " ['large numbers of children with disability , who struggle daily with additional hardships',\n",
       "  'their',\n",
       "  'They'],\n",
       " ['Australia', 'Australia'],\n",
       " ['New Zealand', 'New Zealand'],\n",
       " ['AusAID and the Departments of Foreign Affairs and Trade and Defence',\n",
       "  'their'],\n",
       " ['those opposite', 'their']]"
      ]
     },
     "execution_count": 12,
     "metadata": {},
     "output_type": "execute_result"
    }
   ],
   "source": [
    "# coreference clusters\n",
    "df.iloc[0].clusters"
   ]
  },
  {
   "cell_type": "markdown",
   "id": "1c150a82-9caa-4277-85cf-dc34be147e8a",
   "metadata": {},
   "source": [
    "### Final narratives"
   ]
  },
  {
   "cell_type": "code",
   "execution_count": 14,
   "id": "28bca600-88cd-4836-89de-83a62d83d104",
   "metadata": {},
   "outputs": [],
   "source": [
    "data_folder = 'data/hansard_sample/'\n",
    "narrative_file='_first_nations_sample_final_narratives.jsonl'"
   ]
  },
  {
   "cell_type": "code",
   "execution_count": 15,
   "id": "330f457a-97e4-4b43-a7e4-f5a28af4f3af",
   "metadata": {},
   "outputs": [],
   "source": [
    "df = pd.read_json('{}/{}'.format(data_folder, narrative_file), \n",
    "                  lines = True)"
   ]
  },
  {
   "cell_type": "code",
   "execution_count": 17,
   "id": "6ede21fc-b189-401f-a058-b179a4845684",
   "metadata": {},
   "outputs": [
    {
     "data": {
      "text/html": [
       "<div>\n",
       "<style scoped>\n",
       "    .dataframe tbody tr th:only-of-type {\n",
       "        vertical-align: middle;\n",
       "    }\n",
       "\n",
       "    .dataframe tbody tr th {\n",
       "        vertical-align: top;\n",
       "    }\n",
       "\n",
       "    .dataframe thead th {\n",
       "        text-align: right;\n",
       "    }\n",
       "</style>\n",
       "<table border=\"1\" class=\"dataframe\">\n",
       "  <thead>\n",
       "    <tr style=\"text-align: right;\">\n",
       "      <th></th>\n",
       "      <th>id</th>\n",
       "      <th>text</th>\n",
       "      <th>verb</th>\n",
       "      <th>entity1</th>\n",
       "      <th>entity2</th>\n",
       "      <th>combined</th>\n",
       "      <th>ARGM-LOC</th>\n",
       "      <th>ARGM-TMP</th>\n",
       "      <th>narrative</th>\n",
       "      <th>sent</th>\n",
       "      <th>sentence_id</th>\n",
       "      <th>major_topic</th>\n",
       "      <th>minor_topic</th>\n",
       "      <th>speaker</th>\n",
       "      <th>groups</th>\n",
       "      <th>issues</th>\n",
       "      <th>date</th>\n",
       "      <th>year</th>\n",
       "      <th>month</th>\n",
       "      <th>entities</th>\n",
       "    </tr>\n",
       "  </thead>\n",
       "  <tbody>\n",
       "    <tr>\n",
       "      <th>0</th>\n",
       "      <td>02bcdcc4-b661-4172-833d-1980a99fc424</td>\n",
       "      <td>I heard the member for Bennelong talking about...</td>\n",
       "      <td>talking</td>\n",
       "      <td>the member for Bennelong</td>\n",
       "      <td>Labor government waste</td>\n",
       "      <td>[the member for Bennelong, Labor government wa...</td>\n",
       "      <td></td>\n",
       "      <td></td>\n",
       "      <td>[the member for Bennelong] (talking) [Labor go...</td>\n",
       "      <td>the member for Bennelong talking Labor governm...</td>\n",
       "      <td>02bcdcc4-b661-4172-833d-1980a99fc424_1</td>\n",
       "      <td>\\nPRIVATE MEMBERS’ BUSINESS</td>\n",
       "      <td>\\nDisability-Inclusive Australian Aid Program</td>\n",
       "      <td>Shayne Kenneth Neumann</td>\n",
       "      <td>[First Nations, Older people, People living in...</td>\n",
       "      <td>[Shelter, Education, Voice, Negative emotions,...</td>\n",
       "      <td>2011-03-21</td>\n",
       "      <td>2011</td>\n",
       "      <td>3</td>\n",
       "      <td>[{'text': 'Bennelong', 'type': 'GPE'}, {'text'...</td>\n",
       "    </tr>\n",
       "    <tr>\n",
       "      <th>1</th>\n",
       "      <td>02bcdcc4-b661-4172-833d-1980a99fc424</td>\n",
       "      <td>Paralympian Kurt Fearnley demonstrated to us t...</td>\n",
       "      <td>should  delivered</td>\n",
       "      <td>what services</td>\n",
       "      <td>people</td>\n",
       "      <td>[what services, people]</td>\n",
       "      <td></td>\n",
       "      <td></td>\n",
       "      <td>[what services] (should  delivered) [people]</td>\n",
       "      <td>what services should  delivered people</td>\n",
       "      <td>02bcdcc4-b661-4172-833d-1980a99fc424_10</td>\n",
       "      <td>\\nPRIVATE MEMBERS’ BUSINESS</td>\n",
       "      <td>\\nDisability-Inclusive Australian Aid Program</td>\n",
       "      <td>Shayne Kenneth Neumann</td>\n",
       "      <td>[First Nations, Older people, People living in...</td>\n",
       "      <td>[Shelter, Education, Voice, Negative emotions,...</td>\n",
       "      <td>2011-03-21</td>\n",
       "      <td>2011</td>\n",
       "      <td>3</td>\n",
       "      <td>[{'text': 'Bennelong', 'type': 'GPE'}, {'text'...</td>\n",
       "    </tr>\n",
       "  </tbody>\n",
       "</table>\n",
       "</div>"
      ],
      "text/plain": [
       "                                     id  \\\n",
       "0  02bcdcc4-b661-4172-833d-1980a99fc424   \n",
       "1  02bcdcc4-b661-4172-833d-1980a99fc424   \n",
       "\n",
       "                                                text               verb  \\\n",
       "0  I heard the member for Bennelong talking about...            talking   \n",
       "1  Paralympian Kurt Fearnley demonstrated to us t...  should  delivered   \n",
       "\n",
       "                    entity1                 entity2  \\\n",
       "0  the member for Bennelong  Labor government waste   \n",
       "1             what services                  people   \n",
       "\n",
       "                                            combined ARGM-LOC ARGM-TMP  \\\n",
       "0  [the member for Bennelong, Labor government wa...                     \n",
       "1                            [what services, people]                     \n",
       "\n",
       "                                           narrative  \\\n",
       "0  [the member for Bennelong] (talking) [Labor go...   \n",
       "1       [what services] (should  delivered) [people]   \n",
       "\n",
       "                                                sent  \\\n",
       "0  the member for Bennelong talking Labor governm...   \n",
       "1             what services should  delivered people   \n",
       "\n",
       "                               sentence_id                   major_topic  \\\n",
       "0   02bcdcc4-b661-4172-833d-1980a99fc424_1  \\nPRIVATE MEMBERS’ BUSINESS    \n",
       "1  02bcdcc4-b661-4172-833d-1980a99fc424_10  \\nPRIVATE MEMBERS’ BUSINESS    \n",
       "\n",
       "                                      minor_topic                 speaker  \\\n",
       "0  \\nDisability-Inclusive Australian Aid Program   Shayne Kenneth Neumann   \n",
       "1  \\nDisability-Inclusive Australian Aid Program   Shayne Kenneth Neumann   \n",
       "\n",
       "                                              groups  \\\n",
       "0  [First Nations, Older people, People living in...   \n",
       "1  [First Nations, Older people, People living in...   \n",
       "\n",
       "                                              issues       date  year  month  \\\n",
       "0  [Shelter, Education, Voice, Negative emotions,... 2011-03-21  2011      3   \n",
       "1  [Shelter, Education, Voice, Negative emotions,... 2011-03-21  2011      3   \n",
       "\n",
       "                                            entities  \n",
       "0  [{'text': 'Bennelong', 'type': 'GPE'}, {'text'...  \n",
       "1  [{'text': 'Bennelong', 'type': 'GPE'}, {'text'...  "
      ]
     },
     "execution_count": 17,
     "metadata": {},
     "output_type": "execute_result"
    }
   ],
   "source": [
    "## currently ARGM LOC and ARGM TMP is not used \n",
    "## incorporate for a narrative's location and temporal information  \n",
    "df.head(2)"
   ]
  },
  {
   "cell_type": "code",
   "execution_count": 33,
   "id": "ca821241-51f7-426d-b400-e51d880d0c22",
   "metadata": {},
   "outputs": [
    {
     "data": {
      "text/plain": [
       "'I heard the member for Bennelong talking about perceived, alleged Labor government waste.'"
      ]
     },
     "execution_count": 33,
     "metadata": {},
     "output_type": "execute_result"
    }
   ],
   "source": [
    "df.iloc[0].text"
   ]
  },
  {
   "cell_type": "code",
   "execution_count": 34,
   "id": "d650a588-dfdb-4301-a663-f8a9200e1062",
   "metadata": {},
   "outputs": [
    {
     "data": {
      "text/plain": [
       "'[the member for Bennelong] (talking) [Labor government waste]'"
      ]
     },
     "execution_count": 34,
     "metadata": {},
     "output_type": "execute_result"
    }
   ],
   "source": [
    "df.iloc[0].narrative"
   ]
  },
  {
   "cell_type": "code",
   "execution_count": 35,
   "id": "2f455138-9a26-49b2-992e-e5b6c6197c34",
   "metadata": {},
   "outputs": [
    {
     "data": {
      "text/plain": [
       "'the member for Bennelong talking Labor government waste'"
      ]
     },
     "execution_count": 35,
     "metadata": {},
     "output_type": "execute_result"
    }
   ],
   "source": [
    "df.iloc[0].sent"
   ]
  },
  {
   "cell_type": "code",
   "execution_count": 36,
   "id": "ffee2018-f330-4d6a-8555-d27ef1650665",
   "metadata": {},
   "outputs": [
    {
     "data": {
      "text/plain": [
       "'02bcdcc4-b661-4172-833d-1980a99fc424_1'"
      ]
     },
     "execution_count": 36,
     "metadata": {},
     "output_type": "execute_result"
    }
   ],
   "source": [
    "df.iloc[0].sentence_id"
   ]
  },
  {
   "cell_type": "markdown",
   "id": "ba3bf24b-809a-4450-a4c8-235bb15d1c8b",
   "metadata": {},
   "source": [
    "### Textrank clustering results"
   ]
  },
  {
   "cell_type": "code",
   "execution_count": 51,
   "id": "2ecfd2ed-684c-4a10-b7c5-8d6fd8a2af06",
   "metadata": {},
   "outputs": [],
   "source": [
    "# best top 3, with cluster count = 4\n",
    "# note these are not well formed clusters as this is from random sample\n",
    "data_folder = 'data/hansard_sample/cluster'\n",
    "topn_file='first_nations_kmeans2_topn_3_final_k_4.csv'"
   ]
  },
  {
   "cell_type": "code",
   "execution_count": 52,
   "id": "df21dc84-7e26-47ea-817e-dbe58b6450f2",
   "metadata": {},
   "outputs": [],
   "source": [
    "df = pd.read_csv('{}/{}'.format(data_folder, topn_file))"
   ]
  },
  {
   "cell_type": "code",
   "execution_count": 53,
   "id": "11a0ba89-b66c-4328-8f0c-78737835549d",
   "metadata": {},
   "outputs": [
    {
     "data": {
      "text/html": [
       "<div>\n",
       "<style scoped>\n",
       "    .dataframe tbody tr th:only-of-type {\n",
       "        vertical-align: middle;\n",
       "    }\n",
       "\n",
       "    .dataframe tbody tr th {\n",
       "        vertical-align: top;\n",
       "    }\n",
       "\n",
       "    .dataframe thead th {\n",
       "        text-align: right;\n",
       "    }\n",
       "</style>\n",
       "<table border=\"1\" class=\"dataframe\">\n",
       "  <thead>\n",
       "    <tr style=\"text-align: right;\">\n",
       "      <th></th>\n",
       "      <th>id</th>\n",
       "      <th>text</th>\n",
       "      <th>verb</th>\n",
       "      <th>entity1</th>\n",
       "      <th>entity2</th>\n",
       "      <th>combined</th>\n",
       "      <th>ARGM-LOC</th>\n",
       "      <th>ARGM-TMP</th>\n",
       "      <th>narrative</th>\n",
       "      <th>sent</th>\n",
       "      <th>...</th>\n",
       "      <th>seq</th>\n",
       "      <th>embeddings</th>\n",
       "      <th>labels_2</th>\n",
       "      <th>dist_2</th>\n",
       "      <th>score_2</th>\n",
       "      <th>topN</th>\n",
       "      <th>k</th>\n",
       "      <th>score</th>\n",
       "      <th>dist</th>\n",
       "      <th>labels</th>\n",
       "    </tr>\n",
       "  </thead>\n",
       "  <tbody>\n",
       "    <tr>\n",
       "      <th>0</th>\n",
       "      <td>02bcdcc4-b661-4172-833d-1980a99fc424</td>\n",
       "      <td>We have made $83.6 billion in savings in the l...</td>\n",
       "      <td>made</td>\n",
       "      <td>the Howard government</td>\n",
       "      <td>far</td>\n",
       "      <td>['the Howard government', 'far']</td>\n",
       "      <td>NaN</td>\n",
       "      <td>ever</td>\n",
       "      <td>[the Howard government] (made) [far]</td>\n",
       "      <td>the Howard government made far</td>\n",
       "      <td>...</td>\n",
       "      <td>35</td>\n",
       "      <td>[ 4.76131961e-02  2.96335369e-02 -7.44785555e-...</td>\n",
       "      <td>0</td>\n",
       "      <td>0.643037</td>\n",
       "      <td>0.105464</td>\n",
       "      <td>3</td>\n",
       "      <td>4</td>\n",
       "      <td>0.055786</td>\n",
       "      <td>0.679755</td>\n",
       "      <td>1</td>\n",
       "    </tr>\n",
       "    <tr>\n",
       "      <th>1</th>\n",
       "      <td>02bcdcc4-b661-4172-833d-1980a99fc424</td>\n",
       "      <td>Howard never found a middle class welfare rort...</td>\n",
       "      <td>fund</td>\n",
       "      <td>Howard</td>\n",
       "      <td>a middle class welfare rort</td>\n",
       "      <td>['Howard', 'a middle class welfare rort']</td>\n",
       "      <td>NaN</td>\n",
       "      <td>NaN</td>\n",
       "      <td>[Howard] (fund) [a middle class welfare rort]</td>\n",
       "      <td>Howard fund a middle class welfare rort</td>\n",
       "      <td>...</td>\n",
       "      <td>30</td>\n",
       "      <td>[ 2.12396700e-02  3.49264964e-03 -5.82652129e-...</td>\n",
       "      <td>0</td>\n",
       "      <td>0.661820</td>\n",
       "      <td>0.105464</td>\n",
       "      <td>3</td>\n",
       "      <td>4</td>\n",
       "      <td>0.055786</td>\n",
       "      <td>0.769297</td>\n",
       "      <td>1</td>\n",
       "    </tr>\n",
       "  </tbody>\n",
       "</table>\n",
       "<p>2 rows × 30 columns</p>\n",
       "</div>"
      ],
      "text/plain": [
       "                                     id  \\\n",
       "0  02bcdcc4-b661-4172-833d-1980a99fc424   \n",
       "1  02bcdcc4-b661-4172-833d-1980a99fc424   \n",
       "\n",
       "                                                text  verb  \\\n",
       "0  We have made $83.6 billion in savings in the l...  made   \n",
       "1  Howard never found a middle class welfare rort...  fund   \n",
       "\n",
       "                 entity1                      entity2  \\\n",
       "0  the Howard government                          far   \n",
       "1                 Howard  a middle class welfare rort   \n",
       "\n",
       "                                    combined ARGM-LOC ARGM-TMP  \\\n",
       "0           ['the Howard government', 'far']      NaN     ever   \n",
       "1  ['Howard', 'a middle class welfare rort']      NaN      NaN   \n",
       "\n",
       "                                       narrative  \\\n",
       "0           [the Howard government] (made) [far]   \n",
       "1  [Howard] (fund) [a middle class welfare rort]   \n",
       "\n",
       "                                      sent  ... seq  \\\n",
       "0           the Howard government made far  ...  35   \n",
       "1  Howard fund a middle class welfare rort  ...  30   \n",
       "\n",
       "                                          embeddings labels_2    dist_2  \\\n",
       "0  [ 4.76131961e-02  2.96335369e-02 -7.44785555e-...        0  0.643037   \n",
       "1  [ 2.12396700e-02  3.49264964e-03 -5.82652129e-...        0  0.661820   \n",
       "\n",
       "    score_2 topN  k     score      dist labels  \n",
       "0  0.105464    3  4  0.055786  0.679755      1  \n",
       "1  0.105464    3  4  0.055786  0.769297      1  \n",
       "\n",
       "[2 rows x 30 columns]"
      ]
     },
     "execution_count": 53,
     "metadata": {},
     "output_type": "execute_result"
    }
   ],
   "source": [
    "df.head(2)"
   ]
  },
  {
   "cell_type": "code",
   "execution_count": 54,
   "id": "be70976a-9944-418e-b55d-f5dc3d16154c",
   "metadata": {},
   "outputs": [
    {
     "data": {
      "text/plain": [
       "array([1, 3, 0, 2])"
      ]
     },
     "execution_count": 54,
     "metadata": {},
     "output_type": "execute_result"
    }
   ],
   "source": [
    "df.labels.unique()"
   ]
  },
  {
   "cell_type": "code",
   "execution_count": 55,
   "id": "5da2ea5e-1f2c-4f51-9ca5-b8fb38e802c1",
   "metadata": {},
   "outputs": [],
   "source": [
    "# note these are not well formed clusters as this is from random sample\n",
    "clustered_narratives = df[['id', 'sentence_id', 'narrative', 'labels', 'dist']].\\\n",
    "    sort_values(['labels', 'dist'])"
   ]
  },
  {
   "cell_type": "code",
   "execution_count": 56,
   "id": "1a82ed92-9696-40b2-950e-610b46cfec40",
   "metadata": {},
   "outputs": [
    {
     "data": {
      "text/plain": [
       "83                           [communities] (take) [care]\n",
       "115    [at the Rural Clinical School] (took) [with lo...\n",
       "34     [the Ipswich Hospital Foundation] (came) [the ...\n",
       "116    [at the Rural Clinical School] (sit) [with loc...\n",
       "167    [the Community Festivals for Health Promotion ...\n",
       "166    [the Community Festivals for Health Promotion ...\n",
       "269            [Medicare locals] (been) [great services]\n",
       "289    [those within the community who] (receiving) [...\n",
       "270    [Medicare locals] (do) [an incredibly importan...\n",
       "169      [the Rural Health Commissioner] (be) [involved]\n",
       "Name: narrative, dtype: object"
      ]
     },
     "execution_count": 56,
     "metadata": {},
     "output_type": "execute_result"
    }
   ],
   "source": [
    "clustered_narratives[clustered_narratives.labels == 0].narrative.head(10)"
   ]
  },
  {
   "cell_type": "code",
   "execution_count": 58,
   "id": "8128353a-0f64-4e49-90ff-447710d87d83",
   "metadata": {},
   "outputs": [
    {
     "data": {
      "text/plain": [
       "53         [issues] (affecting) [Indigenous Australians]\n",
       "58         [the Commonwealth] (make) [Indigenous people]\n",
       "143    [Indigenous Australians] (goes) [beyond the wo...\n",
       "15     [Indigenous Australians] (deserve) [able to li...\n",
       "57        [Indigenous people] (given) [the Commonwealth]\n",
       "16     [Indigenous Australians] (be) [able to live in...\n",
       "17     [The government] (delivering) [better housing ...\n",
       "75                           [Aboriginal] (owned) [land]\n",
       "74                         [Aboriginal] (managed) [land]\n",
       "127    [commitments] (characterise) [the Australian I...\n",
       "Name: narrative, dtype: object"
      ]
     },
     "execution_count": 58,
     "metadata": {},
     "output_type": "execute_result"
    }
   ],
   "source": [
    "clustered_narratives[clustered_narratives.labels == 3].narrative.head(10)"
   ]
  },
  {
   "cell_type": "markdown",
   "id": "b1184d36-6067-4097-b91b-0dde3549b048",
   "metadata": {},
   "source": [
    "### TopN clustering results"
   ]
  },
  {
   "cell_type": "code",
   "execution_count": 37,
   "id": "ac68e038-0a80-4f84-a0dd-c7ad81af6e70",
   "metadata": {},
   "outputs": [],
   "source": [
    "# best textrank ratio: 0.05, with cluster count = 5\n",
    "# note these are not well formed clusters as this is from random sample\n",
    "data_folder = 'data/hansard_sample/cluster'\n",
    "tr_file='first_nations_kmeans_tr_0.05_final_5.csv'"
   ]
  },
  {
   "cell_type": "code",
   "execution_count": 40,
   "id": "c29a60ee-5c49-476e-8b47-1edf90b2edb3",
   "metadata": {},
   "outputs": [],
   "source": [
    "df = pd.read_csv('{}/{}'.format(data_folder, tr_file))"
   ]
  },
  {
   "cell_type": "code",
   "execution_count": 41,
   "id": "f162ddf6-d3e2-44fc-bbe4-52e1c1b2f9d0",
   "metadata": {},
   "outputs": [
    {
     "data": {
      "text/html": [
       "<div>\n",
       "<style scoped>\n",
       "    .dataframe tbody tr th:only-of-type {\n",
       "        vertical-align: middle;\n",
       "    }\n",
       "\n",
       "    .dataframe tbody tr th {\n",
       "        vertical-align: top;\n",
       "    }\n",
       "\n",
       "    .dataframe thead th {\n",
       "        text-align: right;\n",
       "    }\n",
       "</style>\n",
       "<table border=\"1\" class=\"dataframe\">\n",
       "  <thead>\n",
       "    <tr style=\"text-align: right;\">\n",
       "      <th></th>\n",
       "      <th>id</th>\n",
       "      <th>text</th>\n",
       "      <th>verb</th>\n",
       "      <th>entity1</th>\n",
       "      <th>entity2</th>\n",
       "      <th>combined</th>\n",
       "      <th>ARGM-LOC</th>\n",
       "      <th>ARGM-TMP</th>\n",
       "      <th>narrative</th>\n",
       "      <th>sent</th>\n",
       "      <th>...</th>\n",
       "      <th>groups</th>\n",
       "      <th>issues</th>\n",
       "      <th>date</th>\n",
       "      <th>year</th>\n",
       "      <th>month</th>\n",
       "      <th>entities</th>\n",
       "      <th>k</th>\n",
       "      <th>score</th>\n",
       "      <th>dist</th>\n",
       "      <th>labels</th>\n",
       "    </tr>\n",
       "  </thead>\n",
       "  <tbody>\n",
       "    <tr>\n",
       "      <th>0</th>\n",
       "      <td>02bcdcc4-b661-4172-833d-1980a99fc424</td>\n",
       "      <td>South-East Asia is the world's second most pop...</td>\n",
       "      <td>estimates</td>\n",
       "      <td>The World Health Organisation</td>\n",
       "      <td>about 140 million people of all ages in South ...</td>\n",
       "      <td>['The World Health Organisation', 'about 140 m...</td>\n",
       "      <td>NaN</td>\n",
       "      <td>NaN</td>\n",
       "      <td>[The World Health Organisation] (estimates) [a...</td>\n",
       "      <td>The World Health Organisation estimates about ...</td>\n",
       "      <td>...</td>\n",
       "      <td>['First Nations', 'Older people', 'People livi...</td>\n",
       "      <td>['Shelter', 'Education', 'Voice', 'Negative em...</td>\n",
       "      <td>2011-03-21</td>\n",
       "      <td>2011</td>\n",
       "      <td>3</td>\n",
       "      <td>[{'text': 'Bennelong', 'type': 'GPE'}, {'text'...</td>\n",
       "      <td>5</td>\n",
       "      <td>0.051018</td>\n",
       "      <td>0.820057</td>\n",
       "      <td>0</td>\n",
       "    </tr>\n",
       "    <tr>\n",
       "      <th>1</th>\n",
       "      <td>0d95bc18-b5b0-440f-bd8c-d3f904acd48d</td>\n",
       "      <td>Seventh, we understand that low staff numbers ...</td>\n",
       "      <td>mean</td>\n",
       "      <td>low staff numbers in the Antarctic Division</td>\n",
       "      <td>the Antarctic Division</td>\n",
       "      <td>['low staff numbers in the Antarctic Division'...</td>\n",
       "      <td>NaN</td>\n",
       "      <td>NaN</td>\n",
       "      <td>[low staff numbers in the Antarctic Division] ...</td>\n",
       "      <td>low staff numbers in the Antarctic Division me...</td>\n",
       "      <td>...</td>\n",
       "      <td>['First Nations']</td>\n",
       "      <td>['Protecting heritage', 'Prejudice and discrim...</td>\n",
       "      <td>2012-05-30</td>\n",
       "      <td>2012</td>\n",
       "      <td>5</td>\n",
       "      <td>[{'text': 'the Antarctic Climate and Ecosystem...</td>\n",
       "      <td>5</td>\n",
       "      <td>0.051018</td>\n",
       "      <td>1.004448</td>\n",
       "      <td>4</td>\n",
       "    </tr>\n",
       "  </tbody>\n",
       "</table>\n",
       "<p>2 rows × 24 columns</p>\n",
       "</div>"
      ],
      "text/plain": [
       "                                     id  \\\n",
       "0  02bcdcc4-b661-4172-833d-1980a99fc424   \n",
       "1  0d95bc18-b5b0-440f-bd8c-d3f904acd48d   \n",
       "\n",
       "                                                text       verb  \\\n",
       "0  South-East Asia is the world's second most pop...  estimates   \n",
       "1  Seventh, we understand that low staff numbers ...       mean   \n",
       "\n",
       "                                       entity1  \\\n",
       "0                The World Health Organisation   \n",
       "1  low staff numbers in the Antarctic Division   \n",
       "\n",
       "                                             entity2  \\\n",
       "0  about 140 million people of all ages in South ...   \n",
       "1                             the Antarctic Division   \n",
       "\n",
       "                                            combined ARGM-LOC ARGM-TMP  \\\n",
       "0  ['The World Health Organisation', 'about 140 m...      NaN      NaN   \n",
       "1  ['low staff numbers in the Antarctic Division'...      NaN      NaN   \n",
       "\n",
       "                                           narrative  \\\n",
       "0  [The World Health Organisation] (estimates) [a...   \n",
       "1  [low staff numbers in the Antarctic Division] ...   \n",
       "\n",
       "                                                sent  ...  \\\n",
       "0  The World Health Organisation estimates about ...  ...   \n",
       "1  low staff numbers in the Antarctic Division me...  ...   \n",
       "\n",
       "                                              groups  \\\n",
       "0  ['First Nations', 'Older people', 'People livi...   \n",
       "1                                  ['First Nations']   \n",
       "\n",
       "                                              issues        date  year month  \\\n",
       "0  ['Shelter', 'Education', 'Voice', 'Negative em...  2011-03-21  2011     3   \n",
       "1  ['Protecting heritage', 'Prejudice and discrim...  2012-05-30  2012     5   \n",
       "\n",
       "                                            entities  k     score      dist  \\\n",
       "0  [{'text': 'Bennelong', 'type': 'GPE'}, {'text'...  5  0.051018  0.820057   \n",
       "1  [{'text': 'the Antarctic Climate and Ecosystem...  5  0.051018  1.004448   \n",
       "\n",
       "  labels  \n",
       "0      0  \n",
       "1      4  \n",
       "\n",
       "[2 rows x 24 columns]"
      ]
     },
     "execution_count": 41,
     "metadata": {},
     "output_type": "execute_result"
    }
   ],
   "source": [
    "df.head(2)"
   ]
  },
  {
   "cell_type": "code",
   "execution_count": 42,
   "id": "1b1c516b-5f0e-4d5a-942f-b407b0a8ebbe",
   "metadata": {},
   "outputs": [
    {
     "data": {
      "text/plain": [
       "array([0, 4, 3, 1, 2])"
      ]
     },
     "execution_count": 42,
     "metadata": {},
     "output_type": "execute_result"
    }
   ],
   "source": [
    "df.labels.unique()"
   ]
  },
  {
   "cell_type": "code",
   "execution_count": 44,
   "id": "e862a3ba-989a-4285-9b24-72a759a5430e",
   "metadata": {},
   "outputs": [],
   "source": [
    "# note these are not well formed clusters as this is from random sample\n",
    "clustered_narratives = df[['id', 'sentence_id', 'narrative', 'labels', 'dist']].\\\n",
    "    sort_values(['labels', 'dist'])"
   ]
  },
  {
   "cell_type": "code",
   "execution_count": 49,
   "id": "17593531-e423-4774-878d-12adee4731eb",
   "metadata": {},
   "outputs": [
    {
     "data": {
      "text/plain": [
       "11     [the Ipswich Hospital Foundation] (came) [the ...\n",
       "58     [the federal health minister , the Hon . Sussa...\n",
       "13     [the Ipswich Hospital Foundation] (strengthen)...\n",
       "166    [the Minister for Disability Services in Queen...\n",
       "7      [by the Salvation Army St George Community Wel...\n",
       "10     [the Ipswich Hospital Foundation] (decided) [t...\n",
       "158    [patients , patients families and the broader ...\n",
       "5      [by the Salvation Army St George Community Wel...\n",
       "157    [the WP Holman Clinic] (advocating) [cancer su...\n",
       "8      [emergency assistance] (providing) [to those i...\n",
       "Name: narrative, dtype: object"
      ]
     },
     "execution_count": 49,
     "metadata": {},
     "output_type": "execute_result"
    }
   ],
   "source": [
    "clustered_narratives[clustered_narratives.labels == 0].narrative.head(10)"
   ]
  },
  {
   "cell_type": "code",
   "execution_count": 48,
   "id": "90a00698-b55e-4e8d-968b-b4cac42f09a0",
   "metadata": {},
   "outputs": [
    {
     "data": {
      "text/plain": [
       "37      [The government] (promised) [a million new jobs]\n",
       "36        [The government] (create) [a million new jobs]\n",
       "124    [the initiatives that] (meshing) [with the oth...\n",
       "35              [communities] (have) [access to funding]\n",
       "162    [by the former government] (introduced) [the l...\n",
       "32          [access to funding] (entitled) [communities]\n",
       "98              [This funding] (will  used) [activities]\n",
       "155             [The government] (ripped) [$ 95 million]\n",
       "153    [the government] (has) [a trail of broken prom...\n",
       "146    [A Shorten Labor government] (will  invest) [a...\n",
       "Name: narrative, dtype: object"
      ]
     },
     "execution_count": 48,
     "metadata": {},
     "output_type": "execute_result"
    }
   ],
   "source": [
    "clustered_narratives[clustered_narratives.labels == 4].narrative.head(10)"
   ]
  },
  {
   "cell_type": "code",
   "execution_count": null,
   "id": "ee5b14c1-75cc-4ead-9416-fb96e90963cd",
   "metadata": {},
   "outputs": [],
   "source": []
  }
 ],
 "metadata": {
  "kernelspec": {
   "display_name": "Python 3 (ipykernel)",
   "language": "python",
   "name": "python3"
  },
  "language_info": {
   "codemirror_mode": {
    "name": "ipython",
    "version": 3
   },
   "file_extension": ".py",
   "mimetype": "text/x-python",
   "name": "python",
   "nbconvert_exporter": "python",
   "pygments_lexer": "ipython3",
   "version": "3.9.15"
  }
 },
 "nbformat": 4,
 "nbformat_minor": 5
}
