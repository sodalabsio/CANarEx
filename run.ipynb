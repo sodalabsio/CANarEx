{
 "cells": [
  {
   "cell_type": "code",
   "execution_count": 1,
   "id": "d8af5241-99f4-4d94-8315-86ebee44a316",
   "metadata": {
    "tags": []
   },
   "outputs": [],
   "source": [
    "import pandas as pd"
   ]
  },
  {
   "cell_type": "markdown",
   "id": "7f0374c8-5d8c-4592-a84b-613e115eaf8e",
   "metadata": {},
   "source": [
    "## Generate sentences from documents"
   ]
  },
  {
   "cell_type": "code",
   "execution_count": 2,
   "id": "019dc256-0139-4929-8f25-24871cf33440",
   "metadata": {},
   "outputs": [],
   "source": [
    "from narratives import create_folder\n",
    "from narratives.sentence_generator import SentenceGenerator\n"
   ]
  },
  {
   "cell_type": "code",
   "execution_count": 3,
   "id": "81ed9dda-2c7e-44f0-845f-1f44f2e96380",
   "metadata": {},
   "outputs": [],
   "source": [
    "input_data = 'data/hansard_sample/first_nations_sample.jsonl'\n",
    "output = 'data/hansard_sample'\n",
    "\n",
    "# read i/p data\n",
    "corpus_df = pd.read_json(input_data, lines=True)\n",
    "corpus_df['date'] = corpus_df['date'].astype(str)"
   ]
  },
  {
   "cell_type": "code",
   "execution_count": 5,
   "id": "3e654e1b-0647-4055-adfb-ad97671936ed",
   "metadata": {},
   "outputs": [
    {
     "data": {
      "text/html": [
       "<div>\n",
       "<style scoped>\n",
       "    .dataframe tbody tr th:only-of-type {\n",
       "        vertical-align: middle;\n",
       "    }\n",
       "\n",
       "    .dataframe tbody tr th {\n",
       "        vertical-align: top;\n",
       "    }\n",
       "\n",
       "    .dataframe thead th {\n",
       "        text-align: right;\n",
       "    }\n",
       "</style>\n",
       "<table border=\"1\" class=\"dataframe\">\n",
       "  <thead>\n",
       "    <tr style=\"text-align: right;\">\n",
       "      <th></th>\n",
       "      <th>major_topic</th>\n",
       "      <th>minor_topic</th>\n",
       "      <th>speaker</th>\n",
       "      <th>content</th>\n",
       "      <th>groups</th>\n",
       "      <th>issues</th>\n",
       "      <th>date</th>\n",
       "      <th>id</th>\n",
       "      <th>year</th>\n",
       "      <th>month</th>\n",
       "    </tr>\n",
       "  </thead>\n",
       "  <tbody>\n",
       "    <tr>\n",
       "      <th>0</th>\n",
       "      <td>\\nQUESTIONS WITHOUT NOTICE</td>\n",
       "      <td>\\nPensions and Benefits</td>\n",
       "      <td>Belinda Jane Neal</td>\n",
       "      <td>My question is to the Minister for Families, H...</td>\n",
       "      <td>[First Nations, Older people, Working class]</td>\n",
       "      <td>[Shelter, Government assistance]</td>\n",
       "      <td>2008-11-11</td>\n",
       "      <td>31855975-2ba6-40ea-ae0e-d5542545f6f9</td>\n",
       "      <td>2008</td>\n",
       "      <td>11</td>\n",
       "    </tr>\n",
       "    <tr>\n",
       "      <th>1</th>\n",
       "      <td>\\nINDIGENOUS EDUCATION (TARGETED ASSISTANCE) A...</td>\n",
       "      <td>\\nSecond Reading</td>\n",
       "      <td>Gary Douglas Hardgrave</td>\n",
       "      <td>I move:\\n\\nThat this bill be now read a second...</td>\n",
       "      <td>[First Nations, Young people, People with drug...</td>\n",
       "      <td>[Violence, Voice, Crime/criminal justice, Addi...</td>\n",
       "      <td>2006-06-22</td>\n",
       "      <td>92cb7070-8ea3-4d91-aeef-e0a72d2541c7</td>\n",
       "      <td>2006</td>\n",
       "      <td>6</td>\n",
       "    </tr>\n",
       "  </tbody>\n",
       "</table>\n",
       "</div>"
      ],
      "text/plain": [
       "                                         major_topic  \\\n",
       "0                        \\nQUESTIONS WITHOUT NOTICE    \n",
       "1  \\nINDIGENOUS EDUCATION (TARGETED ASSISTANCE) A...   \n",
       "\n",
       "                minor_topic                 speaker  \\\n",
       "0  \\nPensions and Benefits        Belinda Jane Neal   \n",
       "1         \\nSecond Reading   Gary Douglas Hardgrave   \n",
       "\n",
       "                                             content  \\\n",
       "0  My question is to the Minister for Families, H...   \n",
       "1  I move:\\n\\nThat this bill be now read a second...   \n",
       "\n",
       "                                              groups  \\\n",
       "0       [First Nations, Older people, Working class]   \n",
       "1  [First Nations, Young people, People with drug...   \n",
       "\n",
       "                                              issues        date  \\\n",
       "0                   [Shelter, Government assistance]  2008-11-11   \n",
       "1  [Violence, Voice, Crime/criminal justice, Addi...  2006-06-22   \n",
       "\n",
       "                                     id  year  month  \n",
       "0  31855975-2ba6-40ea-ae0e-d5542545f6f9  2008     11  \n",
       "1  92cb7070-8ea3-4d91-aeef-e0a72d2541c7  2006      6  "
      ]
     },
     "execution_count": 5,
     "metadata": {},
     "output_type": "execute_result"
    }
   ],
   "source": [
    "corpus_df.head(2)"
   ]
  },
  {
   "cell_type": "code",
   "execution_count": 6,
   "id": "fb097225-fba3-4922-9827-b3daebd8cf4e",
   "metadata": {},
   "outputs": [],
   "source": [
    "# covert to dictionary of records\n",
    "corpus_df = corpus_df.to_dict('records')\n",
    "\n",
    "# create a temporary folder\n",
    "create_folder('{}/temp'.format(output))\n"
   ]
  },
  {
   "cell_type": "code",
   "execution_count": 7,
   "id": "bc6c6a2d-ada4-462c-9620-648e09faeffb",
   "metadata": {},
   "outputs": [
    {
     "name": "stdout",
     "output_type": "stream",
     "text": [
      "Splitting into sentences ...\n"
     ]
    },
    {
     "name": "stderr",
     "output_type": "stream",
     "text": [
      "  0%|                                                                                                           | 0/100 [00:00<?, ?it/s]/pvol/CANarEx/venv_canarex/lib/python3.9/site-packages/torch/autocast_mode.py:162: UserWarning: User provided device_type of 'cuda', but CUDA is not available. Disabling\n",
      "  warnings.warn('User provided device_type of \\'cuda\\', but CUDA is not available. Disabling')\n",
      "100%|█████████████████████████████████████████████████████████████████████████████████████████████████| 100/100 [15:34<00:00,  9.34s/it]\n"
     ]
    }
   ],
   "source": [
    "# convert documents to sentences\n",
    "sgenerator = SentenceGenerator()\n",
    "sgenerator(corpus_df, output_path='{}/temp/orig_sentences.jsonl'.format(output))"
   ]
  },
  {
   "cell_type": "markdown",
   "id": "d8f4bc71-14c9-4bbc-9ea9-fa9e2acd84e7",
   "metadata": {},
   "source": [
    "## Co-reference resolution"
   ]
  },
  {
   "cell_type": "markdown",
   "id": "1770f647-8f64-4a2d-bc52-9e67117e5243",
   "metadata": {},
   "source": [
    "### Download co-reference code"
   ]
  },
  {
   "cell_type": "code",
   "execution_count": null,
   "id": "22642f31-f746-4fd0-b3c4-1ce81001e436",
   "metadata": {},
   "outputs": [],
   "source": [
    "# download spanbert coref\n",
    "# ref: https://colab.research.google.com/drive/1SlERO9Uc9541qv6yH26LJz5IM9j7YVra#scrollTo=tlSneeenEwad\n",
    "! git clone git@github.com:mandarjoshi90/coref.git"
   ]
  },
  {
   "cell_type": "markdown",
   "id": "822b8d88-f88e-4a2d-980c-c72161d9bc28",
   "metadata": {},
   "source": [
    "### Run the below in command line inside CANarEx folder"
   ]
  },
  {
   "cell_type": "markdown",
   "id": "b8ed9c08-e46c-46f1-a8bb-09a536c317a7",
   "metadata": {
    "tags": []
   },
   "source": [
    "#REF:https://colab.research.google.com/drive/1SlERO9Uc9541qv6yH26LJz5IM9j7YVra#scrollTo=tlSneeenEwad\n",
    "\n",
    "#Fix requirements \n",
    "\n",
    "cd coref\n",
    "\n",
    "sed 's/MarkupSafe==1.0/MarkupSafe==1.1.1/; s/scikit-learn==0.19.1/scikit-learn==0.21/; s/scipy==1.0.0/scipy==1.6.2/' < requirements.txt > tmp\n",
    "\n",
    "mv tmp requirements.txt\n",
    "\n",
    "sed 's/.D.GLIBCXX.USE.CXX11.ABI.0//' < setup_all.sh  > tmp\n",
    "\n",
    "mv tmp setup_all.sh \n",
    "\n",
    "chmod u+x setup_all.sh \n",
    "\n",
    "#Create coref environment\n",
    "\n",
    "python3.7 -m venv venv_coref\n",
    "\n",
    "source venv_coref/bin/activate\n",
    "\n",
    "#Installation\n",
    "\n",
    "pip install -r requirements.txt --log install-log.txt -q\n",
    "\n",
    "pip install tokenization\n",
    "\n",
    "pip install sacremoses\n",
    "\n",
    "./setup_all.sh\n",
    "\n",
    "#Download spanbertbase\n",
    "\n",
    "wget -P . http://nlp.cs.washington.edu/pair2vec/spanbert_base.tar.gz\n",
    "\n",
    "tar xvzf spanbert_base.tar.gz -C .\n",
    "\n",
    "rm spanbert_base.tar.gz\n",
    "\n",
    "#run co-reference resolution on extracted sentences\n",
    "\n",
    "python 2.coref_bert.py"
   ]
  },
  {
   "cell_type": "markdown",
   "id": "a7325110-3459-42b0-9df7-6e9c79de2b55",
   "metadata": {},
   "source": [
    "## SRL extraction"
   ]
  },
  {
   "cell_type": "code",
   "execution_count": 11,
   "id": "92035779-8042-437f-ad50-c781469d58d2",
   "metadata": {},
   "outputs": [
    {
     "name": "stdout",
     "output_type": "stream",
     "text": [
      "Checking sentence length...\n",
      "100%|█████████████████████████████████████| 2631/2631 [00:00<00:00, 8487.92it/s]\n",
      "Running SRL...\n",
      "lerc is not a registered model.\n",
      "Some weights of the model checkpoint at bert-base-uncased were not used when initializing BertModel: ['cls.predictions.transform.dense.bias', 'cls.seq_relationship.weight', 'cls.seq_relationship.bias', 'cls.predictions.transform.LayerNorm.bias', 'cls.predictions.transform.LayerNorm.weight', 'cls.predictions.bias', 'cls.predictions.decoder.weight', 'cls.predictions.transform.dense.weight']\n",
      "- This IS expected if you are initializing BertModel from the checkpoint of a model trained on another task or with another architecture (e.g. initializing a BertForSequenceClassification model from a BertForPreTraining model).\n",
      "- This IS NOT expected if you are initializing BertModel from the checkpoint of a model that you expect to be exactly identical (initializing a BertForSequenceClassification model from a BertForSequenceClassification model).\n",
      "27it [44:46, 99.49s/it] \n",
      "Running SRL argument extraction...\n",
      "100%|█████████████████████████████████████| 2631/2631 [00:00<00:00, 5530.53it/s]\n",
      "Processing extracted SRL...\n",
      "Creating micro-narratives...\n",
      "100%|████████████████████████████████████| 2568/2568 [00:00<00:00, 10884.09it/s]\n",
      "Creating narratives...\n",
      "Cleaning narratives\n",
      "Saving cleaned narratives ..\n"
     ]
    }
   ],
   "source": [
    "!python 3.run_canarex.py"
   ]
  },
  {
   "cell_type": "markdown",
   "id": "f6d7905a-1b5f-49d5-a607-d8266ada0a92",
   "metadata": {},
   "source": [
    "## Clustering"
   ]
  },
  {
   "cell_type": "markdown",
   "id": "c4ab159a-a439-4265-88ab-035393d05f31",
   "metadata": {},
   "source": [
    "### Textrank clustering"
   ]
  },
  {
   "cell_type": "code",
   "execution_count": 11,
   "id": "6654fc0c-44e1-4e5c-87ad-a84111eda63f",
   "metadata": {},
   "outputs": [
    {
     "name": "stdout",
     "output_type": "stream",
     "text": [
      "Creating textrank summary for ratio 0.05\n",
      "100%|█████████████████████████████████████████| 100/100 [00:01<00:00, 69.87it/s]\n",
      "Loading file data/hansard_sample/_first_nations_sample_final_narratives.jsonl ...\n",
      "Creating textrank summary for ratio 0.1\n",
      "100%|█████████████████████████████████████████| 100/100 [00:01<00:00, 67.51it/s]\n",
      "Loading file data/hansard_sample/_first_nations_sample_final_narratives.jsonl ...\n",
      "Creating textrank summary for ratio 0.2\n",
      "100%|█████████████████████████████████████████| 100/100 [00:01<00:00, 68.33it/s]\n",
      "Loading file data/hansard_sample/_first_nations_sample_final_narratives.jsonl ...\n",
      "Creating textrank summary for ratio 0.4\n",
      "100%|█████████████████████████████████████████| 100/100 [00:01<00:00, 68.65it/s]\n",
      "Loading file data/hansard_sample/_first_nations_sample_final_narratives.jsonl ...\n",
      "Running cluustering for ratio 0.05 ...\n",
      "Loading file data/hansard_sample/cluster/first_nations_tr_0.05_final_narratives.jsonl ...\n",
      "Creating embeddings ...\n",
      "Batches: 100%|████████████████████████████████████| 3/3 [00:03<00:00,  1.31s/it]\n",
      "Clustering document level ...\n",
      "Clustering k 2\n",
      "Running Kmeans ...\n",
      "Clustering k 3\n",
      "Running Kmeans ...\n",
      "Clustering k 4\n",
      "Running Kmeans ...\n",
      "Clustering k 5\n",
      "Running Kmeans ...\n",
      "WARNING clustering 169 points to 5 centroids: please provide at least 195 training points\n",
      "Running cluustering for ratio 0.1 ...\n",
      "Loading file data/hansard_sample/cluster/first_nations_tr_0.1_final_narratives.jsonl ...\n",
      "Creating embeddings ...\n",
      "Batches: 100%|████████████████████████████████████| 7/7 [00:07<00:00,  1.08s/it]\n",
      "Clustering document level ...\n",
      "Clustering k 2\n",
      "Running Kmeans ...\n",
      "Clustering k 3\n",
      "Running Kmeans ...\n",
      "Clustering k 4\n",
      "Running Kmeans ...\n",
      "Clustering k 5\n",
      "Running Kmeans ...\n",
      "Running cluustering for ratio 0.2 ...\n",
      "Loading file data/hansard_sample/cluster/first_nations_tr_0.2_final_narratives.jsonl ...\n",
      "Creating embeddings ...\n",
      "Batches: 100%|██████████████████████████████████| 14/14 [00:22<00:00,  1.61s/it]\n",
      "Clustering document level ...\n",
      "Clustering k 2\n",
      "Running Kmeans ...\n",
      "Clustering k 3\n",
      "Running Kmeans ...\n",
      "Clustering k 4\n",
      "Running Kmeans ...\n",
      "Clustering k 5\n",
      "Running Kmeans ...\n",
      "Running cluustering for ratio 0.4 ...\n",
      "Loading file data/hansard_sample/cluster/first_nations_tr_0.4_final_narratives.jsonl ...\n",
      "Creating embeddings ...\n",
      "Batches: 100%|██████████████████████████████████| 25/25 [00:38<00:00,  1.56s/it]\n",
      "Clustering document level ...\n",
      "Clustering k 2\n",
      "Running Kmeans ...\n",
      "Clustering k 3\n",
      "Running Kmeans ...\n",
      "Clustering k 4\n",
      "Running Kmeans ...\n",
      "Clustering k 5\n",
      "Running Kmeans ...\n",
      "Best model, ratio: 0.05, k: 5\n"
     ]
    }
   ],
   "source": [
    "from clustering import tr_cluster\n",
    "tr_cluster()"
   ]
  },
  {
   "cell_type": "markdown",
   "id": "69963765-f410-4ff0-a351-46e7efa3428b",
   "metadata": {},
   "source": [
    "### TopN clustering"
   ]
  },
  {
   "cell_type": "code",
   "execution_count": null,
   "id": "f3856790-7284-4054-9b9a-5f8257b5d66e",
   "metadata": {},
   "outputs": [
    {
     "name": "stdout",
     "output_type": "stream",
     "text": [
      "Running subset first_nations ...\n",
      "Loading file data/hansard_sample/_first_nations_sample_final_narratives.jsonl ...\n",
      "Loading embeddings from file path ..\n",
      "Clustering document level ...\n",
      "Clustering k 2\n",
      "Running Kmeans ...\n"
     ]
    },
    {
     "name": "stderr",
     "output_type": "stream",
     "text": [
      "WARNING clustering 45 points to 2 centroids: please provide at least 78 training points\n"
     ]
    },
    {
     "name": "stdout",
     "output_type": "stream",
     "text": [
      "Clustering k 2\n",
      "Running Kmeans ...\n"
     ]
    },
    {
     "name": "stderr",
     "output_type": "stream",
     "text": [
      "WARNING clustering 9 points to 2 centroids: please provide at least 78 training points\n"
     ]
    },
    {
     "name": "stdout",
     "output_type": "stream",
     "text": [
      "Clustering k 2\n",
      "Running Kmeans ...\n"
     ]
    },
    {
     "name": "stderr",
     "output_type": "stream",
     "text": [
      "WARNING clustering 29 points to 2 centroids: please provide at least 78 training points\n"
     ]
    },
    {
     "name": "stdout",
     "output_type": "stream",
     "text": [
      "Clustering k 2\n",
      "Running Kmeans ...\n"
     ]
    },
    {
     "name": "stderr",
     "output_type": "stream",
     "text": [
      "WARNING clustering 23 points to 2 centroids: please provide at least 78 training points\n"
     ]
    },
    {
     "name": "stdout",
     "output_type": "stream",
     "text": [
      "Clustering k 2\n",
      "Running Kmeans ...\n"
     ]
    },
    {
     "name": "stderr",
     "output_type": "stream",
     "text": [
      "WARNING clustering 42 points to 2 centroids: please provide at least 78 training points\n"
     ]
    },
    {
     "name": "stdout",
     "output_type": "stream",
     "text": [
      "Clustering k 2\n",
      "Running Kmeans ...\n"
     ]
    },
    {
     "name": "stderr",
     "output_type": "stream",
     "text": [
      "WARNING clustering 11 points to 2 centroids: please provide at least 78 training points\n"
     ]
    },
    {
     "name": "stdout",
     "output_type": "stream",
     "text": [
      "Clustering k 2\n",
      "Running Kmeans ...\n"
     ]
    },
    {
     "name": "stderr",
     "output_type": "stream",
     "text": [
      "WARNING clustering 43 points to 2 centroids: please provide at least 78 training points\n"
     ]
    },
    {
     "name": "stdout",
     "output_type": "stream",
     "text": [
      "Clustering k 2\n",
      "Running Kmeans ...\n"
     ]
    },
    {
     "name": "stderr",
     "output_type": "stream",
     "text": [
      "WARNING clustering 8 points to 2 centroids: please provide at least 78 training points\n"
     ]
    },
    {
     "name": "stdout",
     "output_type": "stream",
     "text": [
      "Clustering k 2\n",
      "Running Kmeans ...\n"
     ]
    },
    {
     "name": "stderr",
     "output_type": "stream",
     "text": [
      "WARNING clustering 41 points to 2 centroids: please provide at least 78 training points\n"
     ]
    },
    {
     "name": "stdout",
     "output_type": "stream",
     "text": [
      "Clustering k 2\n",
      "Running Kmeans ...\n"
     ]
    },
    {
     "name": "stderr",
     "output_type": "stream",
     "text": [
      "WARNING clustering 8 points to 2 centroids: please provide at least 78 training points\n"
     ]
    },
    {
     "name": "stdout",
     "output_type": "stream",
     "text": [
      "Clustering k 2\n",
      "Running Kmeans ...\n"
     ]
    },
    {
     "name": "stderr",
     "output_type": "stream",
     "text": [
      "WARNING clustering 19 points to 2 centroids: please provide at least 78 training points\n"
     ]
    },
    {
     "name": "stdout",
     "output_type": "stream",
     "text": [
      "Clustering k 2\n",
      "Running Kmeans ...\n"
     ]
    },
    {
     "name": "stderr",
     "output_type": "stream",
     "text": [
      "WARNING clustering 52 points to 2 centroids: please provide at least 78 training points\n"
     ]
    },
    {
     "name": "stdout",
     "output_type": "stream",
     "text": [
      "Clustering k 2\n",
      "Running Kmeans ...\n"
     ]
    },
    {
     "name": "stderr",
     "output_type": "stream",
     "text": [
      "WARNING clustering 37 points to 2 centroids: please provide at least 78 training points\n"
     ]
    },
    {
     "name": "stdout",
     "output_type": "stream",
     "text": [
      "Clustering k 2\n",
      "Running Kmeans ...\n"
     ]
    },
    {
     "name": "stderr",
     "output_type": "stream",
     "text": [
      "WARNING clustering 8 points to 2 centroids: please provide at least 78 training points\n"
     ]
    },
    {
     "name": "stdout",
     "output_type": "stream",
     "text": [
      "Clustering k 2\n",
      "Running Kmeans ...\n"
     ]
    },
    {
     "name": "stderr",
     "output_type": "stream",
     "text": [
      "WARNING clustering 23 points to 2 centroids: please provide at least 78 training points\n"
     ]
    },
    {
     "name": "stdout",
     "output_type": "stream",
     "text": [
      "Clustering k 2\n",
      "Running Kmeans ...\n"
     ]
    },
    {
     "name": "stderr",
     "output_type": "stream",
     "text": [
      "WARNING clustering 9 points to 2 centroids: please provide at least 78 training points\n"
     ]
    },
    {
     "name": "stdout",
     "output_type": "stream",
     "text": [
      "Clustering k 2\n",
      "Running Kmeans ...\n"
     ]
    },
    {
     "name": "stderr",
     "output_type": "stream",
     "text": [
      "WARNING clustering 48 points to 2 centroids: please provide at least 78 training points\n"
     ]
    },
    {
     "name": "stdout",
     "output_type": "stream",
     "text": [
      "Clustering k 2\n",
      "Running Kmeans ...\n"
     ]
    },
    {
     "name": "stderr",
     "output_type": "stream",
     "text": [
      "WARNING clustering 15 points to 2 centroids: please provide at least 78 training points\n"
     ]
    },
    {
     "name": "stdout",
     "output_type": "stream",
     "text": [
      "Clustering k 2\n",
      "Running Kmeans ...\n"
     ]
    },
    {
     "name": "stderr",
     "output_type": "stream",
     "text": [
      "WARNING clustering 51 points to 2 centroids: please provide at least 78 training points\n"
     ]
    },
    {
     "name": "stdout",
     "output_type": "stream",
     "text": [
      "Clustering k 2\n",
      "Running Kmeans ...\n"
     ]
    },
    {
     "name": "stderr",
     "output_type": "stream",
     "text": [
      "WARNING clustering 26 points to 2 centroids: please provide at least 78 training points\n"
     ]
    },
    {
     "name": "stdout",
     "output_type": "stream",
     "text": [
      "Clustering k 2\n",
      "Running Kmeans ...\n"
     ]
    },
    {
     "name": "stderr",
     "output_type": "stream",
     "text": [
      "WARNING clustering 9 points to 2 centroids: please provide at least 78 training points\n"
     ]
    },
    {
     "name": "stdout",
     "output_type": "stream",
     "text": [
      "Clustering k 2\n",
      "Running Kmeans ...\n"
     ]
    },
    {
     "name": "stderr",
     "output_type": "stream",
     "text": [
      "WARNING clustering 19 points to 2 centroids: please provide at least 78 training points\n"
     ]
    },
    {
     "name": "stdout",
     "output_type": "stream",
     "text": [
      "Clustering k 2\n",
      "Running Kmeans ...\n"
     ]
    },
    {
     "name": "stderr",
     "output_type": "stream",
     "text": [
      "WARNING clustering 13 points to 2 centroids: please provide at least 78 training points\n"
     ]
    },
    {
     "name": "stdout",
     "output_type": "stream",
     "text": [
      "Clustering k 2\n",
      "Running Kmeans ...\n"
     ]
    },
    {
     "name": "stderr",
     "output_type": "stream",
     "text": [
      "WARNING clustering 3 points to 2 centroids: please provide at least 78 training points\n"
     ]
    },
    {
     "name": "stdout",
     "output_type": "stream",
     "text": [
      "Clustering k 2\n",
      "Running Kmeans ...\n"
     ]
    },
    {
     "name": "stderr",
     "output_type": "stream",
     "text": [
      "WARNING clustering 19 points to 2 centroids: please provide at least 78 training points\n"
     ]
    },
    {
     "name": "stdout",
     "output_type": "stream",
     "text": [
      "Clustering k 2\n",
      "Running Kmeans ...\n"
     ]
    },
    {
     "name": "stderr",
     "output_type": "stream",
     "text": [
      "WARNING clustering 38 points to 2 centroids: please provide at least 78 training points\n"
     ]
    },
    {
     "name": "stdout",
     "output_type": "stream",
     "text": [
      "Clustering k 2\n",
      "Running Kmeans ...\n"
     ]
    },
    {
     "name": "stderr",
     "output_type": "stream",
     "text": [
      "WARNING clustering 61 points to 2 centroids: please provide at least 78 training points\n"
     ]
    },
    {
     "name": "stdout",
     "output_type": "stream",
     "text": [
      "Clustering k 2\n",
      "Running Kmeans ...\n"
     ]
    },
    {
     "name": "stderr",
     "output_type": "stream",
     "text": [
      "WARNING clustering 12 points to 2 centroids: please provide at least 78 training points\n"
     ]
    },
    {
     "name": "stdout",
     "output_type": "stream",
     "text": [
      "Clustering k 2\n",
      "Running Kmeans ...\n"
     ]
    },
    {
     "name": "stderr",
     "output_type": "stream",
     "text": [
      "WARNING clustering 44 points to 2 centroids: please provide at least 78 training points\n"
     ]
    },
    {
     "name": "stdout",
     "output_type": "stream",
     "text": [
      "Clustering k 2\n",
      "Running Kmeans ...\n"
     ]
    },
    {
     "name": "stderr",
     "output_type": "stream",
     "text": [
      "WARNING clustering 55 points to 2 centroids: please provide at least 78 training points\n"
     ]
    },
    {
     "name": "stdout",
     "output_type": "stream",
     "text": [
      "Clustering k 2\n",
      "Running Kmeans ...\n"
     ]
    },
    {
     "name": "stderr",
     "output_type": "stream",
     "text": [
      "WARNING clustering 22 points to 2 centroids: please provide at least 78 training points\n"
     ]
    },
    {
     "name": "stdout",
     "output_type": "stream",
     "text": [
      "Clustering k 2\n",
      "Running Kmeans ...\n"
     ]
    },
    {
     "name": "stderr",
     "output_type": "stream",
     "text": [
      "WARNING clustering 42 points to 2 centroids: please provide at least 78 training points\n"
     ]
    },
    {
     "name": "stdout",
     "output_type": "stream",
     "text": [
      "Clustering k 2\n",
      "Running Kmeans ...\n"
     ]
    },
    {
     "name": "stderr",
     "output_type": "stream",
     "text": [
      "WARNING clustering 33 points to 2 centroids: please provide at least 78 training points\n"
     ]
    },
    {
     "name": "stdout",
     "output_type": "stream",
     "text": [
      "Clustering k 2\n",
      "Running Kmeans ...\n"
     ]
    },
    {
     "name": "stderr",
     "output_type": "stream",
     "text": [
      "WARNING clustering 45 points to 2 centroids: please provide at least 78 training points\n"
     ]
    },
    {
     "name": "stdout",
     "output_type": "stream",
     "text": [
      "Clustering k 2\n",
      "Running Kmeans ...\n"
     ]
    },
    {
     "name": "stderr",
     "output_type": "stream",
     "text": [
      "WARNING clustering 21 points to 2 centroids: please provide at least 78 training points\n"
     ]
    },
    {
     "name": "stdout",
     "output_type": "stream",
     "text": [
      "Clustering k 2\n",
      "Running Kmeans ...\n"
     ]
    },
    {
     "name": "stderr",
     "output_type": "stream",
     "text": [
      "WARNING clustering 29 points to 2 centroids: please provide at least 78 training points\n"
     ]
    },
    {
     "name": "stdout",
     "output_type": "stream",
     "text": [
      "Clustering k 2\n",
      "Running Kmeans ...\n"
     ]
    },
    {
     "name": "stderr",
     "output_type": "stream",
     "text": [
      "WARNING clustering 3 points to 2 centroids: please provide at least 78 training points\n"
     ]
    },
    {
     "name": "stdout",
     "output_type": "stream",
     "text": [
      "Clustering k 2\n",
      "Running Kmeans ...\n"
     ]
    },
    {
     "name": "stderr",
     "output_type": "stream",
     "text": [
      "WARNING clustering 19 points to 2 centroids: please provide at least 78 training points\n"
     ]
    },
    {
     "name": "stdout",
     "output_type": "stream",
     "text": [
      "Clustering k 2\n",
      "Running Kmeans ...\n"
     ]
    },
    {
     "name": "stderr",
     "output_type": "stream",
     "text": [
      "WARNING clustering 48 points to 2 centroids: please provide at least 78 training points\n"
     ]
    },
    {
     "name": "stdout",
     "output_type": "stream",
     "text": [
      "Clustering k 2\n",
      "Running Kmeans ...\n"
     ]
    },
    {
     "name": "stderr",
     "output_type": "stream",
     "text": [
      "WARNING clustering 44 points to 2 centroids: please provide at least 78 training points\n"
     ]
    },
    {
     "name": "stdout",
     "output_type": "stream",
     "text": [
      "Clustering k 2\n",
      "Running Kmeans ...\n",
      "Clustering k 2\n",
      "Running Kmeans ...\n"
     ]
    },
    {
     "name": "stderr",
     "output_type": "stream",
     "text": [
      "WARNING clustering 18 points to 2 centroids: please provide at least 78 training points\n"
     ]
    },
    {
     "name": "stdout",
     "output_type": "stream",
     "text": [
      "Clustering k 2\n",
      "Running Kmeans ...\n"
     ]
    },
    {
     "name": "stderr",
     "output_type": "stream",
     "text": [
      "WARNING clustering 29 points to 2 centroids: please provide at least 78 training points\n"
     ]
    },
    {
     "name": "stdout",
     "output_type": "stream",
     "text": [
      "Clustering k 2\n",
      "Running Kmeans ...\n"
     ]
    },
    {
     "name": "stderr",
     "output_type": "stream",
     "text": [
      "WARNING clustering 49 points to 2 centroids: please provide at least 78 training points\n"
     ]
    },
    {
     "name": "stdout",
     "output_type": "stream",
     "text": [
      "Clustering k 2\n",
      "Running Kmeans ...\n"
     ]
    },
    {
     "name": "stderr",
     "output_type": "stream",
     "text": [
      "WARNING clustering 5 points to 2 centroids: please provide at least 78 training points\n"
     ]
    },
    {
     "name": "stdout",
     "output_type": "stream",
     "text": [
      "Clustering k 2\n",
      "Running Kmeans ...\n"
     ]
    },
    {
     "name": "stderr",
     "output_type": "stream",
     "text": [
      "WARNING clustering 50 points to 2 centroids: please provide at least 78 training points\n"
     ]
    },
    {
     "name": "stdout",
     "output_type": "stream",
     "text": [
      "Clustering k 2\n",
      "Running Kmeans ...\n"
     ]
    },
    {
     "name": "stderr",
     "output_type": "stream",
     "text": [
      "WARNING clustering 34 points to 2 centroids: please provide at least 78 training points\n"
     ]
    },
    {
     "name": "stdout",
     "output_type": "stream",
     "text": [
      "Clustering k 2\n",
      "Running Kmeans ...\n"
     ]
    },
    {
     "name": "stderr",
     "output_type": "stream",
     "text": [
      "WARNING clustering 42 points to 2 centroids: please provide at least 78 training points\n"
     ]
    },
    {
     "name": "stdout",
     "output_type": "stream",
     "text": [
      "Clustering k 2\n",
      "Running Kmeans ...\n"
     ]
    },
    {
     "name": "stderr",
     "output_type": "stream",
     "text": [
      "WARNING clustering 27 points to 2 centroids: please provide at least 78 training points\n"
     ]
    },
    {
     "name": "stdout",
     "output_type": "stream",
     "text": [
      "Clustering k 2\n",
      "Running Kmeans ...\n",
      "Clustering k 2\n",
      "Running Kmeans ...\n"
     ]
    },
    {
     "name": "stderr",
     "output_type": "stream",
     "text": [
      "WARNING clustering 53 points to 2 centroids: please provide at least 78 training points\n"
     ]
    },
    {
     "name": "stdout",
     "output_type": "stream",
     "text": [
      "Clustering k 2\n",
      "Running Kmeans ...\n"
     ]
    },
    {
     "name": "stderr",
     "output_type": "stream",
     "text": [
      "WARNING clustering 11 points to 2 centroids: please provide at least 78 training points\n"
     ]
    },
    {
     "name": "stdout",
     "output_type": "stream",
     "text": [
      "Clustering k 2\n",
      "Running Kmeans ...\n"
     ]
    },
    {
     "name": "stderr",
     "output_type": "stream",
     "text": [
      "WARNING clustering 9 points to 2 centroids: please provide at least 78 training points\n"
     ]
    },
    {
     "name": "stdout",
     "output_type": "stream",
     "text": [
      "Clustering k 2\n",
      "Running Kmeans ...\n"
     ]
    },
    {
     "name": "stderr",
     "output_type": "stream",
     "text": [
      "WARNING clustering 76 points to 2 centroids: please provide at least 78 training points\n"
     ]
    },
    {
     "name": "stdout",
     "output_type": "stream",
     "text": [
      "Clustering k 2\n",
      "Running Kmeans ...\n"
     ]
    },
    {
     "name": "stderr",
     "output_type": "stream",
     "text": [
      "WARNING clustering 50 points to 2 centroids: please provide at least 78 training points\n"
     ]
    },
    {
     "name": "stdout",
     "output_type": "stream",
     "text": [
      "Clustering k 2\n",
      "Running Kmeans ...\n"
     ]
    },
    {
     "name": "stderr",
     "output_type": "stream",
     "text": [
      "WARNING clustering 46 points to 2 centroids: please provide at least 78 training points\n"
     ]
    },
    {
     "name": "stdout",
     "output_type": "stream",
     "text": [
      "Clustering k 2\n",
      "Running Kmeans ...\n"
     ]
    },
    {
     "name": "stderr",
     "output_type": "stream",
     "text": [
      "WARNING clustering 54 points to 2 centroids: please provide at least 78 training points\n"
     ]
    },
    {
     "name": "stdout",
     "output_type": "stream",
     "text": [
      "Clustering k 2\n",
      "Running Kmeans ...\n"
     ]
    },
    {
     "name": "stderr",
     "output_type": "stream",
     "text": [
      "WARNING clustering 26 points to 2 centroids: please provide at least 78 training points\n"
     ]
    },
    {
     "name": "stdout",
     "output_type": "stream",
     "text": [
      "Clustering k 2\n",
      "Running Kmeans ...\n"
     ]
    },
    {
     "name": "stderr",
     "output_type": "stream",
     "text": [
      "WARNING clustering 24 points to 2 centroids: please provide at least 78 training points\n"
     ]
    },
    {
     "name": "stdout",
     "output_type": "stream",
     "text": [
      "Clustering k 2\n",
      "Running Kmeans ...\n"
     ]
    },
    {
     "name": "stderr",
     "output_type": "stream",
     "text": [
      "WARNING clustering 39 points to 2 centroids: please provide at least 78 training points\n"
     ]
    },
    {
     "name": "stdout",
     "output_type": "stream",
     "text": [
      "Clustering k 2\n",
      "Running Kmeans ...\n"
     ]
    },
    {
     "name": "stderr",
     "output_type": "stream",
     "text": [
      "WARNING clustering 22 points to 2 centroids: please provide at least 78 training points\n"
     ]
    },
    {
     "name": "stdout",
     "output_type": "stream",
     "text": [
      "Clustering k 2\n",
      "Running Kmeans ...\n"
     ]
    },
    {
     "name": "stderr",
     "output_type": "stream",
     "text": [
      "WARNING clustering 22 points to 2 centroids: please provide at least 78 training points\n"
     ]
    },
    {
     "name": "stdout",
     "output_type": "stream",
     "text": [
      "Clustering k 2\n",
      "Running Kmeans ...\n"
     ]
    },
    {
     "name": "stderr",
     "output_type": "stream",
     "text": [
      "WARNING clustering 24 points to 2 centroids: please provide at least 78 training points\n"
     ]
    },
    {
     "name": "stdout",
     "output_type": "stream",
     "text": [
      "Clustering k 2\n",
      "Running Kmeans ...\n"
     ]
    },
    {
     "name": "stderr",
     "output_type": "stream",
     "text": [
      "WARNING clustering 35 points to 2 centroids: please provide at least 78 training points\n"
     ]
    },
    {
     "name": "stdout",
     "output_type": "stream",
     "text": [
      "Clustering k 2\n",
      "Running Kmeans ...\n"
     ]
    },
    {
     "name": "stderr",
     "output_type": "stream",
     "text": [
      "WARNING clustering 34 points to 2 centroids: please provide at least 78 training points\n"
     ]
    },
    {
     "name": "stdout",
     "output_type": "stream",
     "text": [
      "Clustering k 2\n",
      "Running Kmeans ...\n"
     ]
    },
    {
     "name": "stderr",
     "output_type": "stream",
     "text": [
      "WARNING clustering 36 points to 2 centroids: please provide at least 78 training points\n"
     ]
    },
    {
     "name": "stdout",
     "output_type": "stream",
     "text": [
      "Clustering k 2\n",
      "Running Kmeans ...\n"
     ]
    },
    {
     "name": "stderr",
     "output_type": "stream",
     "text": [
      "WARNING clustering 23 points to 2 centroids: please provide at least 78 training points\n"
     ]
    },
    {
     "name": "stdout",
     "output_type": "stream",
     "text": [
      "Clustering k 2\n",
      "Running Kmeans ...\n"
     ]
    },
    {
     "name": "stderr",
     "output_type": "stream",
     "text": [
      "WARNING clustering 8 points to 2 centroids: please provide at least 78 training points\n"
     ]
    },
    {
     "name": "stdout",
     "output_type": "stream",
     "text": [
      "Clustering k 2\n",
      "Running Kmeans ...\n"
     ]
    },
    {
     "name": "stderr",
     "output_type": "stream",
     "text": [
      "WARNING clustering 29 points to 2 centroids: please provide at least 78 training points\n"
     ]
    },
    {
     "name": "stdout",
     "output_type": "stream",
     "text": [
      "Clustering k 2\n",
      "Running Kmeans ...\n"
     ]
    },
    {
     "name": "stderr",
     "output_type": "stream",
     "text": [
      "WARNING clustering 38 points to 2 centroids: please provide at least 78 training points\n"
     ]
    },
    {
     "name": "stdout",
     "output_type": "stream",
     "text": [
      "Clustering k 2\n",
      "Running Kmeans ...\n"
     ]
    },
    {
     "name": "stderr",
     "output_type": "stream",
     "text": [
      "WARNING clustering 46 points to 2 centroids: please provide at least 78 training points\n"
     ]
    },
    {
     "name": "stdout",
     "output_type": "stream",
     "text": [
      "Clustering k 2\n",
      "Running Kmeans ...\n"
     ]
    },
    {
     "name": "stderr",
     "output_type": "stream",
     "text": [
      "WARNING clustering 60 points to 2 centroids: please provide at least 78 training points\n"
     ]
    },
    {
     "name": "stdout",
     "output_type": "stream",
     "text": [
      "Clustering k 2\n",
      "Running Kmeans ...\n"
     ]
    },
    {
     "name": "stderr",
     "output_type": "stream",
     "text": [
      "WARNING clustering 3 points to 2 centroids: please provide at least 78 training points\n"
     ]
    },
    {
     "name": "stdout",
     "output_type": "stream",
     "text": [
      "Clustering k 2\n",
      "Running Kmeans ...\n"
     ]
    },
    {
     "name": "stderr",
     "output_type": "stream",
     "text": [
      "WARNING clustering 24 points to 2 centroids: please provide at least 78 training points\n"
     ]
    },
    {
     "name": "stdout",
     "output_type": "stream",
     "text": [
      "Clustering k 2\n",
      "Running Kmeans ...\n"
     ]
    },
    {
     "name": "stderr",
     "output_type": "stream",
     "text": [
      "WARNING clustering 12 points to 2 centroids: please provide at least 78 training points\n"
     ]
    },
    {
     "name": "stdout",
     "output_type": "stream",
     "text": [
      "Clustering k 2\n",
      "Running Kmeans ...\n"
     ]
    },
    {
     "name": "stderr",
     "output_type": "stream",
     "text": [
      "WARNING clustering 47 points to 2 centroids: please provide at least 78 training points\n"
     ]
    },
    {
     "name": "stdout",
     "output_type": "stream",
     "text": [
      "Clustering k 2\n",
      "Running Kmeans ...\n"
     ]
    },
    {
     "name": "stderr",
     "output_type": "stream",
     "text": [
      "WARNING clustering 54 points to 2 centroids: please provide at least 78 training points\n"
     ]
    },
    {
     "name": "stdout",
     "output_type": "stream",
     "text": [
      "Clustering k 2\n",
      "Running Kmeans ...\n"
     ]
    },
    {
     "name": "stderr",
     "output_type": "stream",
     "text": [
      "WARNING clustering 33 points to 2 centroids: please provide at least 78 training points\n"
     ]
    },
    {
     "name": "stdout",
     "output_type": "stream",
     "text": [
      "Clustering k 2\n",
      "Running Kmeans ...\n"
     ]
    },
    {
     "name": "stderr",
     "output_type": "stream",
     "text": [
      "WARNING clustering 24 points to 2 centroids: please provide at least 78 training points\n"
     ]
    },
    {
     "name": "stdout",
     "output_type": "stream",
     "text": [
      "Clustering k 2\n",
      "Running Kmeans ...\n"
     ]
    },
    {
     "name": "stderr",
     "output_type": "stream",
     "text": [
      "WARNING clustering 39 points to 2 centroids: please provide at least 78 training points\n"
     ]
    },
    {
     "name": "stdout",
     "output_type": "stream",
     "text": [
      "Clustering k 2\n",
      "Running Kmeans ...\n"
     ]
    },
    {
     "name": "stderr",
     "output_type": "stream",
     "text": [
      "WARNING clustering 53 points to 2 centroids: please provide at least 78 training points\n"
     ]
    },
    {
     "name": "stdout",
     "output_type": "stream",
     "text": [
      "Clustering k 2\n",
      "Running Kmeans ...\n"
     ]
    },
    {
     "name": "stderr",
     "output_type": "stream",
     "text": [
      "WARNING clustering 29 points to 2 centroids: please provide at least 78 training points\n"
     ]
    },
    {
     "name": "stdout",
     "output_type": "stream",
     "text": [
      "Clustering k 2\n",
      "Running Kmeans ...\n"
     ]
    },
    {
     "name": "stderr",
     "output_type": "stream",
     "text": [
      "WARNING clustering 56 points to 2 centroids: please provide at least 78 training points\n"
     ]
    },
    {
     "name": "stdout",
     "output_type": "stream",
     "text": [
      "Clustering k 2\n",
      "Running Kmeans ...\n"
     ]
    },
    {
     "name": "stderr",
     "output_type": "stream",
     "text": [
      "WARNING clustering 21 points to 2 centroids: please provide at least 78 training points\n"
     ]
    },
    {
     "name": "stdout",
     "output_type": "stream",
     "text": [
      "Clustering k 2\n",
      "Running Kmeans ...\n"
     ]
    },
    {
     "name": "stderr",
     "output_type": "stream",
     "text": [
      "WARNING clustering 43 points to 2 centroids: please provide at least 78 training points\n"
     ]
    },
    {
     "name": "stdout",
     "output_type": "stream",
     "text": [
      "Clustering k 2\n",
      "Running Kmeans ...\n"
     ]
    },
    {
     "name": "stderr",
     "output_type": "stream",
     "text": [
      "WARNING clustering 44 points to 2 centroids: please provide at least 78 training points\n"
     ]
    },
    {
     "name": "stdout",
     "output_type": "stream",
     "text": [
      "Clustering k 2\n",
      "Running Kmeans ...\n"
     ]
    },
    {
     "name": "stderr",
     "output_type": "stream",
     "text": [
      "WARNING clustering 16 points to 2 centroids: please provide at least 78 training points\n"
     ]
    },
    {
     "name": "stdout",
     "output_type": "stream",
     "text": [
      "Clustering k 2\n",
      "Running Kmeans ...\n"
     ]
    },
    {
     "name": "stderr",
     "output_type": "stream",
     "text": [
      "WARNING clustering 47 points to 2 centroids: please provide at least 78 training points\n"
     ]
    },
    {
     "name": "stdout",
     "output_type": "stream",
     "text": [
      "Clustering k 2\n",
      "Running Kmeans ...\n"
     ]
    },
    {
     "name": "stderr",
     "output_type": "stream",
     "text": [
      "WARNING clustering 3 points to 2 centroids: please provide at least 78 training points\n"
     ]
    }
   ],
   "source": [
    "from clustering import topn_cluster\n",
    "topn_cluster()"
   ]
  },
  {
   "cell_type": "code",
   "execution_count": null,
   "id": "00660c52-d031-4f23-8d09-941f30f61615",
   "metadata": {},
   "outputs": [],
   "source": []
  }
 ],
 "metadata": {
  "kernelspec": {
   "display_name": "Python 3 (ipykernel)",
   "language": "python",
   "name": "python3"
  },
  "language_info": {
   "codemirror_mode": {
    "name": "ipython",
    "version": 3
   },
   "file_extension": ".py",
   "mimetype": "text/x-python",
   "name": "python",
   "nbconvert_exporter": "python",
   "pygments_lexer": "ipython3",
   "version": "3.10.6"
  }
 },
 "nbformat": 4,
 "nbformat_minor": 5
}
